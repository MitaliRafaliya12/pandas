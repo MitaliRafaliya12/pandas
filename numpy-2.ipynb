{
 "cells": [
  {
   "cell_type": "code",
   "execution_count": 1,
   "id": "3409b858-2581-4cc2-abc4-f9d23539c539",
   "metadata": {},
   "outputs": [],
   "source": [
    "#array manipulation"
   ]
  },
  {
   "cell_type": "code",
   "execution_count": 7,
   "id": "9ff959c8-22e0-44f4-aebe-fd36be6e2281",
   "metadata": {},
   "outputs": [],
   "source": [
    "import numpy as np"
   ]
  },
  {
   "cell_type": "code",
   "execution_count": 9,
   "id": "b39d562e-e304-489a-8f2b-b0296de7adf8",
   "metadata": {},
   "outputs": [],
   "source": [
    "arr = np.random.randint(1,10,(3,4))"
   ]
  },
  {
   "cell_type": "code",
   "execution_count": 10,
   "id": "3e954693-66a8-4650-a870-508bc9932e73",
   "metadata": {},
   "outputs": [
    {
     "data": {
      "text/plain": [
       "array([[5, 4, 3, 4],\n",
       "       [3, 4, 6, 5],\n",
       "       [5, 3, 5, 9]])"
      ]
     },
     "execution_count": 10,
     "metadata": {},
     "output_type": "execute_result"
    }
   ],
   "source": [
    "arr"
   ]
  },
  {
   "cell_type": "code",
   "execution_count": 11,
   "id": "d8742d3d-9aa2-4a2e-9a45-16cfc23c4783",
   "metadata": {},
   "outputs": [
    {
     "data": {
      "text/plain": [
       "array([[5, 4],\n",
       "       [3, 4],\n",
       "       [3, 4],\n",
       "       [6, 5],\n",
       "       [5, 3],\n",
       "       [5, 9]])"
      ]
     },
     "execution_count": 11,
     "metadata": {},
     "output_type": "execute_result"
    }
   ],
   "source": [
    "arr.reshape(6,2)"
   ]
  },
  {
   "cell_type": "code",
   "execution_count": 12,
   "id": "0f924f37-9a47-4d86-a1ee-b4e8bbcbee94",
   "metadata": {},
   "outputs": [
    {
     "data": {
      "text/plain": [
       "array([[5, 4, 3, 4, 3, 4],\n",
       "       [6, 5, 5, 3, 5, 9]])"
      ]
     },
     "execution_count": 12,
     "metadata": {},
     "output_type": "execute_result"
    }
   ],
   "source": [
    "arr.reshape(2,6)"
   ]
  },
  {
   "cell_type": "code",
   "execution_count": 17,
   "id": "227cad36-b8b6-47bb-b719-0d90bfb56059",
   "metadata": {},
   "outputs": [
    {
     "data": {
      "text/plain": [
       "array([[5, 3, 5],\n",
       "       [4, 4, 3],\n",
       "       [3, 6, 5],\n",
       "       [4, 5, 9]])"
      ]
     },
     "execution_count": 17,
     "metadata": {},
     "output_type": "execute_result"
    }
   ],
   "source": [
    "# array transpose\n",
    "arr.T"
   ]
  },
  {
   "cell_type": "code",
   "execution_count": 18,
   "id": "b9731e88-5a34-47ea-9b6d-3623296fdf5e",
   "metadata": {},
   "outputs": [
    {
     "data": {
      "text/plain": [
       "array([[5, 4, 3, 4],\n",
       "       [3, 4, 6, 5],\n",
       "       [5, 3, 5, 9]])"
      ]
     },
     "execution_count": 18,
     "metadata": {},
     "output_type": "execute_result"
    }
   ],
   "source": [
    "arr"
   ]
  },
  {
   "cell_type": "code",
   "execution_count": 21,
   "id": "f1a43789-8303-451d-8094-d84e2282a033",
   "metadata": {},
   "outputs": [
    {
     "data": {
      "text/plain": [
       "array([5, 4, 3, 4, 3, 4, 6, 5, 5, 3, 5, 9])"
      ]
     },
     "execution_count": 21,
     "metadata": {},
     "output_type": "execute_result"
    }
   ],
   "source": [
    "#flatten() =  2d array ko 1d array mai convert\n",
    "arr.flatten()"
   ]
  },
  {
   "cell_type": "code",
   "execution_count": 22,
   "id": "3dc4532c-425d-4681-a2f4-afadbde9fc79",
   "metadata": {},
   "outputs": [],
   "source": [
    "arr1 = np.array([1,2,3,4])"
   ]
  },
  {
   "cell_type": "code",
   "execution_count": 23,
   "id": "4347f0ea-52c5-460d-8cec-8db4de14cccf",
   "metadata": {},
   "outputs": [
    {
     "data": {
      "text/plain": [
       "1"
      ]
     },
     "execution_count": 23,
     "metadata": {},
     "output_type": "execute_result"
    }
   ],
   "source": [
    "arr1.ndim"
   ]
  },
  {
   "cell_type": "code",
   "execution_count": 25,
   "id": "b3ef0752-4169-4614-a37b-438f6ef43ba6",
   "metadata": {},
   "outputs": [
    {
     "data": {
      "text/plain": [
       "array([[1],\n",
       "       [2],\n",
       "       [3],\n",
       "       [4]])"
      ]
     },
     "execution_count": 25,
     "metadata": {},
     "output_type": "execute_result"
    }
   ],
   "source": [
    "# expand_dims(array_name , axis = 1)  = 1d array ko 2d mai convert\n",
    "np.expand_dims(arr1 , axis = 1)     # column k accross"
   ]
  },
  {
   "cell_type": "code",
   "execution_count": 27,
   "id": "89eada02-23a2-4071-807a-9878473719e8",
   "metadata": {},
   "outputs": [
    {
     "data": {
      "text/plain": [
       "array([[1, 2, 3, 4]])"
      ]
     },
     "execution_count": 27,
     "metadata": {},
     "output_type": "execute_result"
    }
   ],
   "source": [
    "np.expand_dims(arr1 , axis = 0)        # row k accross"
   ]
  },
  {
   "cell_type": "code",
   "execution_count": 28,
   "id": "1ec7db32-dacb-41ed-86f9-c64cf84edfec",
   "metadata": {},
   "outputs": [
    {
     "data": {
      "text/plain": [
       "array([[5, 4, 3, 4],\n",
       "       [3, 4, 6, 5],\n",
       "       [5, 3, 5, 9]])"
      ]
     },
     "execution_count": 28,
     "metadata": {},
     "output_type": "execute_result"
    }
   ],
   "source": [
    "arr"
   ]
  },
  {
   "cell_type": "code",
   "execution_count": 30,
   "id": "780c6a19-a450-49e4-adb3-64562fb0a607",
   "metadata": {},
   "outputs": [
    {
     "data": {
      "text/plain": [
       "'squeeze()   = list k andar multiple list , each k andar 1- 1 ele\\n\\ntab ye usko single list mai lake dega'"
      ]
     },
     "execution_count": 30,
     "metadata": {},
     "output_type": "execute_result"
    }
   ],
   "source": [
    "'''squeeze()   = list k andar multiple list , each k andar 1- 1 ele\n",
    "\n",
    "tab ye usko single list mai lake dega'''"
   ]
  },
  {
   "cell_type": "code",
   "execution_count": 34,
   "id": "0a93d6bb-bb36-477c-8e85-a51036829611",
   "metadata": {},
   "outputs": [
    {
     "data": {
      "text/plain": [
       "array([[1],\n",
       "       [2],\n",
       "       [3]])"
      ]
     },
     "execution_count": 34,
     "metadata": {},
     "output_type": "execute_result"
    }
   ],
   "source": [
    " np.array([[1],[2],[3]])"
   ]
  },
  {
   "cell_type": "code",
   "execution_count": 35,
   "id": "8b3839aa-1f79-4c3d-9d5b-ec8e2c96290a",
   "metadata": {},
   "outputs": [],
   "source": [
    " data = np.array([[1],[2],[3]])"
   ]
  },
  {
   "cell_type": "code",
   "execution_count": 36,
   "id": "a04d542d-7f83-483b-95df-cfff2411dc9a",
   "metadata": {},
   "outputs": [
    {
     "data": {
      "text/plain": [
       "array([1, 2, 3])"
      ]
     },
     "execution_count": 36,
     "metadata": {},
     "output_type": "execute_result"
    }
   ],
   "source": [
    "np.squeeze(data)"
   ]
  },
  {
   "cell_type": "code",
   "execution_count": null,
   "id": "e9f44bd6-4408-46d1-8c86-270ccb34eb70",
   "metadata": {},
   "outputs": [],
   "source": []
  },
  {
   "cell_type": "code",
   "execution_count": 37,
   "id": "b4795ca0-4396-4416-ae50-be97574e95b8",
   "metadata": {},
   "outputs": [
    {
     "data": {
      "text/plain": [
       "array([1, 2, 3, 4])"
      ]
     },
     "execution_count": 37,
     "metadata": {},
     "output_type": "execute_result"
    }
   ],
   "source": [
    "arr1"
   ]
  },
  {
   "cell_type": "code",
   "execution_count": 39,
   "id": "5db37f6d-7979-4dc6-9b74-f00204ee4ab1",
   "metadata": {},
   "outputs": [
    {
     "data": {
      "text/plain": [
       "'repeat(array , number (how many time you want to repeat)) \\n\\narray elements ko repeat krna'"
      ]
     },
     "execution_count": 39,
     "metadata": {},
     "output_type": "execute_result"
    }
   ],
   "source": [
    "'''repeat(array , number (how many time you want to repeat)) \n",
    "\n",
    "array elements ko repeat krna'''"
   ]
  },
  {
   "cell_type": "code",
   "execution_count": 38,
   "id": "94dadd46-2c41-4218-989a-7686a192a72f",
   "metadata": {},
   "outputs": [
    {
     "data": {
      "text/plain": [
       "array([1, 1, 1, 1, 2, 2, 2, 2, 3, 3, 3, 3, 4, 4, 4, 4])"
      ]
     },
     "execution_count": 38,
     "metadata": {},
     "output_type": "execute_result"
    }
   ],
   "source": [
    "np.repeat(arr1 , 4)"
   ]
  },
  {
   "cell_type": "code",
   "execution_count": 43,
   "id": "035f9a71-c304-495c-84dc-166e1cae843d",
   "metadata": {},
   "outputs": [
    {
     "data": {
      "text/plain": [
       "'roll(array , shif number)   = array k eles ko ghumata hai base on shif number'"
      ]
     },
     "execution_count": 43,
     "metadata": {},
     "output_type": "execute_result"
    }
   ],
   "source": [
    "'''roll(array , shif number)   = array k eles ko ghumata hai base on shif number'''"
   ]
  },
  {
   "cell_type": "code",
   "execution_count": 42,
   "id": "49ee6810-1e4a-4e0c-be1e-f1be9a4fd453",
   "metadata": {},
   "outputs": [
    {
     "data": {
      "text/plain": [
       "array([3, 4, 1, 2])"
      ]
     },
     "execution_count": 42,
     "metadata": {},
     "output_type": "execute_result"
    }
   ],
   "source": [
    "np.roll(arr1 , 2)"
   ]
  },
  {
   "cell_type": "code",
   "execution_count": 46,
   "id": "bbbb037a-77dd-4db0-995f-f2d14abb4441",
   "metadata": {},
   "outputs": [
    {
     "data": {
      "text/plain": [
       "'diag(1d array_name) = 2d array return krega jo b 1d array dalte ho sko diagonal mai layega'"
      ]
     },
     "execution_count": 46,
     "metadata": {},
     "output_type": "execute_result"
    }
   ],
   "source": [
    "'''diag(1d array_name) = 2d array return krega jo b 1d array dalte ho sko diagonal mai layega'''"
   ]
  },
  {
   "cell_type": "code",
   "execution_count": 44,
   "id": "fda90f00-4951-466a-b730-bbe228b935bd",
   "metadata": {},
   "outputs": [
    {
     "data": {
      "text/plain": [
       "array([[1, 0, 0, 0],\n",
       "       [0, 2, 0, 0],\n",
       "       [0, 0, 3, 0],\n",
       "       [0, 0, 0, 4]])"
      ]
     },
     "execution_count": 44,
     "metadata": {},
     "output_type": "execute_result"
    }
   ],
   "source": [
    "np.diag(arr1)"
   ]
  },
  {
   "cell_type": "code",
   "execution_count": null,
   "id": "aead36b3-0e36-451d-af65-4eed456365b3",
   "metadata": {},
   "outputs": [],
   "source": []
  },
  {
   "cell_type": "code",
   "execution_count": 47,
   "id": "c354a85d-bfa2-4136-9db2-345d93d75a1b",
   "metadata": {},
   "outputs": [],
   "source": [
    "# numpy = binary operations"
   ]
  },
  {
   "cell_type": "code",
   "execution_count": 48,
   "id": "0ca20d48-6cc7-4d33-9bcf-01a0115bf5c5",
   "metadata": {},
   "outputs": [],
   "source": [
    "arr1 = np.random.randint(1,10,(3,4))"
   ]
  },
  {
   "cell_type": "code",
   "execution_count": 49,
   "id": "10c4fa7b-a6b4-4bc6-8298-e57102870315",
   "metadata": {},
   "outputs": [],
   "source": [
    "arr2 = np.random.randint(1,10,(3,4))"
   ]
  },
  {
   "cell_type": "code",
   "execution_count": 50,
   "id": "0f934b95-1efc-4a0a-949e-bac8c89ccf88",
   "metadata": {},
   "outputs": [
    {
     "data": {
      "text/plain": [
       "array([[8, 9, 6, 4],\n",
       "       [1, 8, 3, 5],\n",
       "       [1, 9, 6, 1]])"
      ]
     },
     "execution_count": 50,
     "metadata": {},
     "output_type": "execute_result"
    }
   ],
   "source": [
    "arr1"
   ]
  },
  {
   "cell_type": "code",
   "execution_count": 51,
   "id": "1f1982b6-fb96-48a3-8dec-020b712f1d99",
   "metadata": {},
   "outputs": [
    {
     "data": {
      "text/plain": [
       "array([[6, 2, 7, 4],\n",
       "       [6, 6, 7, 1],\n",
       "       [4, 6, 2, 6]])"
      ]
     },
     "execution_count": 51,
     "metadata": {},
     "output_type": "execute_result"
    }
   ],
   "source": [
    "arr2"
   ]
  },
  {
   "cell_type": "code",
   "execution_count": 52,
   "id": "b0d703dc-6971-421d-9b09-781334bb5648",
   "metadata": {},
   "outputs": [
    {
     "data": {
      "text/plain": [
       "array([[14, 11, 13,  8],\n",
       "       [ 7, 14, 10,  6],\n",
       "       [ 5, 15,  8,  7]])"
      ]
     },
     "execution_count": 52,
     "metadata": {},
     "output_type": "execute_result"
    }
   ],
   "source": [
    "arr1 + arr2"
   ]
  },
  {
   "cell_type": "code",
   "execution_count": 53,
   "id": "21eb203e-1a7f-4673-a4d3-f3e2311c7aab",
   "metadata": {},
   "outputs": [
    {
     "data": {
      "text/plain": [
       "array([[48, 18, 42, 16],\n",
       "       [ 6, 48, 21,  5],\n",
       "       [ 4, 54, 12,  6]])"
      ]
     },
     "execution_count": 53,
     "metadata": {},
     "output_type": "execute_result"
    }
   ],
   "source": [
    "arr1 * arr2"
   ]
  },
  {
   "cell_type": "code",
   "execution_count": 54,
   "id": "2c5dc4ec-3e65-4a0e-ae9d-973e67731e90",
   "metadata": {},
   "outputs": [
    {
     "data": {
      "text/plain": [
       "array([[1.33333333, 4.5       , 0.85714286, 1.        ],\n",
       "       [0.16666667, 1.33333333, 0.42857143, 5.        ],\n",
       "       [0.25      , 1.5       , 3.        , 0.16666667]])"
      ]
     },
     "execution_count": 54,
     "metadata": {},
     "output_type": "execute_result"
    }
   ],
   "source": [
    "arr1 / arr2"
   ]
  },
  {
   "cell_type": "code",
   "execution_count": 55,
   "id": "08a4f80d-533b-4cdb-b5be-4373d283fee0",
   "metadata": {},
   "outputs": [
    {
     "data": {
      "text/plain": [
       "array([[ 2,  7, -1,  0],\n",
       "       [-5,  2, -4,  4],\n",
       "       [-3,  3,  4, -5]])"
      ]
     },
     "execution_count": 55,
     "metadata": {},
     "output_type": "execute_result"
    }
   ],
   "source": [
    "arr1 - arr2"
   ]
  },
  {
   "cell_type": "code",
   "execution_count": 56,
   "id": "ec2ed280-9913-4d6f-b440-077d4eac216a",
   "metadata": {},
   "outputs": [
    {
     "data": {
      "text/plain": [
       "array([[2, 1, 6, 0],\n",
       "       [1, 2, 3, 0],\n",
       "       [1, 3, 0, 1]])"
      ]
     },
     "execution_count": 56,
     "metadata": {},
     "output_type": "execute_result"
    }
   ],
   "source": [
    "#reminder operation\n",
    "arr1%arr2"
   ]
  },
  {
   "cell_type": "code",
   "execution_count": 58,
   "id": "9ec4c3c1-9fac-4cb2-9d93-b30b827d101b",
   "metadata": {},
   "outputs": [
    {
     "data": {
      "text/plain": [
       "array([[262144,     81, 279936,    256],\n",
       "       [     1, 262144,   2187,      5],\n",
       "       [     1, 531441,     36,      1]])"
      ]
     },
     "execution_count": 58,
     "metadata": {},
     "output_type": "execute_result"
    }
   ],
   "source": [
    "# power operation\n",
    "arr1 ** arr2"
   ]
  },
  {
   "cell_type": "code",
   "execution_count": 61,
   "id": "d97f311b-41ee-4cb1-8bf1-5140882bff8a",
   "metadata": {},
   "outputs": [
    {
     "data": {
      "text/plain": [
       "array([[0, 0, 6, 4],\n",
       "       [0, 0, 3, 1],\n",
       "       [0, 0, 2, 0]])"
      ]
     },
     "execution_count": 61,
     "metadata": {},
     "output_type": "execute_result"
    }
   ],
   "source": [
    "# and operation\n",
    "arr1 & arr2"
   ]
  },
  {
   "cell_type": "markdown",
   "id": "2db36676-f5c5-4a5e-8095-35fe8cb4c4bb",
   "metadata": {},
   "source": [
    "## "
   ]
  },
  {
   "cell_type": "code",
   "execution_count": 69,
   "id": "d8ecb97e-5319-4e8d-8c3f-6f89baf64e79",
   "metadata": {},
   "outputs": [
    {
     "data": {
      "text/plain": [
       "'niget operation  =    ~   \\n\\nvalue mai + 1 \\nsign ko - krta hai'"
      ]
     },
     "execution_count": 69,
     "metadata": {},
     "output_type": "execute_result"
    }
   ],
   "source": [
    "'''niget operation  =    ~   \n",
    "\n",
    "value mai + 1 \n",
    "sign ko - krta hai'''"
   ]
  },
  {
   "cell_type": "code",
   "execution_count": 67,
   "id": "35a52a9d-6cd5-4cc4-b35b-020498efe2da",
   "metadata": {},
   "outputs": [
    {
     "data": {
      "text/plain": [
       "array([[ -9, -10,  -7,  -5],\n",
       "       [ -2,  -9,  -4,  -6],\n",
       "       [ -2, -10,  -7,  -2]])"
      ]
     },
     "execution_count": 67,
     "metadata": {},
     "output_type": "execute_result"
    }
   ],
   "source": [
    "~arr1"
   ]
  },
  {
   "cell_type": "code",
   "execution_count": 68,
   "id": "37a09bd4-64a3-462e-941b-db0b9836ecc5",
   "metadata": {},
   "outputs": [
    {
     "data": {
      "text/plain": [
       "array([[8, 9, 6, 4],\n",
       "       [1, 8, 3, 5],\n",
       "       [1, 9, 6, 1]])"
      ]
     },
     "execution_count": 68,
     "metadata": {},
     "output_type": "execute_result"
    }
   ],
   "source": [
    "arr1"
   ]
  },
  {
   "cell_type": "code",
   "execution_count": 71,
   "id": "9e1f295f-3037-493f-a3a5-bf1433fa57c5",
   "metadata": {},
   "outputs": [
    {
     "data": {
      "text/plain": [
       "array([[14, 11,  7,  4],\n",
       "       [ 7, 14,  7,  5],\n",
       "       [ 5, 15,  6,  7]])"
      ]
     },
     "execution_count": 71,
     "metadata": {},
     "output_type": "execute_result"
    }
   ],
   "source": [
    "# or operation\n",
    "arr1|arr2"
   ]
  },
  {
   "cell_type": "code",
   "execution_count": 73,
   "id": "0f81d531-df88-4702-936b-ee27602d4327",
   "metadata": {},
   "outputs": [
    {
     "data": {
      "text/plain": [
       "array([[ True,  True, False, False],\n",
       "       [False,  True, False,  True],\n",
       "       [False,  True,  True, False]])"
      ]
     },
     "execution_count": 73,
     "metadata": {},
     "output_type": "execute_result"
    }
   ],
   "source": [
    "# grater than operation\n",
    "arr1 > arr2"
   ]
  },
  {
   "cell_type": "code",
   "execution_count": null,
   "id": "3539843a-eaa2-42e5-b10d-2d4d2f5e769b",
   "metadata": {},
   "outputs": [],
   "source": []
  },
  {
   "cell_type": "code",
   "execution_count": 75,
   "id": "a36564ee-e1cd-421a-8a0e-fbe615d7b9ea",
   "metadata": {},
   "outputs": [],
   "source": [
    "# numpy - string functions"
   ]
  },
  {
   "cell_type": "code",
   "execution_count": 77,
   "id": "955e2dc4-bb08-4277-bc23-580cbad4af28",
   "metadata": {},
   "outputs": [],
   "source": [
    "arr =np.array(['mira','kumar'])"
   ]
  },
  {
   "cell_type": "code",
   "execution_count": 78,
   "id": "141f32aa-4f93-4c8e-afd2-7cb1ae3c13ce",
   "metadata": {},
   "outputs": [
    {
     "data": {
      "text/plain": [
       "array(['MIRA', 'KUMAR'], dtype='<U5')"
      ]
     },
     "execution_count": 78,
     "metadata": {},
     "output_type": "execute_result"
    }
   ],
   "source": [
    "np.char.upper(arr)"
   ]
  },
  {
   "cell_type": "code",
   "execution_count": 79,
   "id": "3022fc88-2f3c-4bc6-8d4b-d4507a3e4cc9",
   "metadata": {},
   "outputs": [
    {
     "data": {
      "text/plain": [
       "array(['Mira', 'Kumar'], dtype='<U5')"
      ]
     },
     "execution_count": 79,
     "metadata": {},
     "output_type": "execute_result"
    }
   ],
   "source": [
    "np.char.title(arr)"
   ]
  },
  {
   "cell_type": "code",
   "execution_count": 80,
   "id": "995abbad-d125-4ee4-80d0-e01d544f3b18",
   "metadata": {},
   "outputs": [
    {
     "data": {
      "text/plain": [
       "array(['Mira', 'Kumar'], dtype='<U5')"
      ]
     },
     "execution_count": 80,
     "metadata": {},
     "output_type": "execute_result"
    }
   ],
   "source": [
    "np.char.capitalize(arr)"
   ]
  },
  {
   "cell_type": "code",
   "execution_count": null,
   "id": "4d2afbdb-c0cd-4748-87e0-79ad47390ebb",
   "metadata": {},
   "outputs": [],
   "source": []
  },
  {
   "cell_type": "code",
   "execution_count": 81,
   "id": "0e263c2f-9ab6-4012-b993-5b453f8f842e",
   "metadata": {},
   "outputs": [],
   "source": [
    "# numpy - mathemetical functions"
   ]
  },
  {
   "cell_type": "code",
   "execution_count": 82,
   "id": "4611c9d8-1477-4cf6-aacd-42bf9844a062",
   "metadata": {},
   "outputs": [
    {
     "data": {
      "text/plain": [
       "array([[8, 9, 6, 4],\n",
       "       [1, 8, 3, 5],\n",
       "       [1, 9, 6, 1]])"
      ]
     },
     "execution_count": 82,
     "metadata": {},
     "output_type": "execute_result"
    }
   ],
   "source": [
    "arr1"
   ]
  },
  {
   "cell_type": "code",
   "execution_count": 83,
   "id": "172cbeb0-f399-4a06-90d1-0989b35e0f82",
   "metadata": {},
   "outputs": [
    {
     "data": {
      "text/plain": [
       "array([[ 0.98935825,  0.41211849, -0.2794155 , -0.7568025 ],\n",
       "       [ 0.84147098,  0.98935825,  0.14112001, -0.95892427],\n",
       "       [ 0.84147098,  0.41211849, -0.2794155 ,  0.84147098]])"
      ]
     },
     "execution_count": 83,
     "metadata": {},
     "output_type": "execute_result"
    }
   ],
   "source": [
    "np.sin(arr1)"
   ]
  },
  {
   "cell_type": "code",
   "execution_count": 84,
   "id": "027a1d5d-5415-439f-aae5-df653f235e5f",
   "metadata": {},
   "outputs": [
    {
     "data": {
      "text/plain": [
       "array([[-0.14550003, -0.91113026,  0.96017029, -0.65364362],\n",
       "       [ 0.54030231, -0.14550003, -0.9899925 ,  0.28366219],\n",
       "       [ 0.54030231, -0.91113026,  0.96017029,  0.54030231]])"
      ]
     },
     "execution_count": 84,
     "metadata": {},
     "output_type": "execute_result"
    }
   ],
   "source": [
    "np.cos(arr1)"
   ]
  },
  {
   "cell_type": "code",
   "execution_count": 85,
   "id": "0d12bfe1-02e5-4746-96df-309501729b76",
   "metadata": {},
   "outputs": [
    {
     "data": {
      "text/plain": [
       "array([[-6.79971146, -0.45231566, -0.29100619,  1.15782128],\n",
       "       [ 1.55740772, -6.79971146, -0.14254654, -3.38051501],\n",
       "       [ 1.55740772, -0.45231566, -0.29100619,  1.55740772]])"
      ]
     },
     "execution_count": 85,
     "metadata": {},
     "output_type": "execute_result"
    }
   ],
   "source": [
    "np.tan(arr1)"
   ]
  },
  {
   "cell_type": "code",
   "execution_count": 86,
   "id": "b78b04b0-6fae-40c8-b65d-6d578571def6",
   "metadata": {},
   "outputs": [
    {
     "data": {
      "text/plain": [
       "array([[0.99999977, 0.99999997, 0.99998771, 0.9993293 ],\n",
       "       [0.76159416, 0.99999977, 0.99505475, 0.9999092 ],\n",
       "       [0.76159416, 0.99999997, 0.99998771, 0.76159416]])"
      ]
     },
     "execution_count": 86,
     "metadata": {},
     "output_type": "execute_result"
    }
   ],
   "source": [
    "np.tanh(arr1)"
   ]
  },
  {
   "cell_type": "code",
   "execution_count": 88,
   "id": "fea3d607-5f14-4bab-a3d0-12cca561a339",
   "metadata": {},
   "outputs": [
    {
     "data": {
      "text/plain": [
       "array([[0.90308999, 0.95424251, 0.77815125, 0.60205999],\n",
       "       [0.        , 0.90308999, 0.47712125, 0.69897   ],\n",
       "       [0.        , 0.95424251, 0.77815125, 0.        ]])"
      ]
     },
     "execution_count": 88,
     "metadata": {},
     "output_type": "execute_result"
    }
   ],
   "source": [
    "np.log10(arr1)"
   ]
  },
  {
   "cell_type": "code",
   "execution_count": 89,
   "id": "bd2c0842-beb0-407e-b84b-5ebc3e2407ad",
   "metadata": {},
   "outputs": [
    {
     "data": {
      "text/plain": [
       "array([[2.98095799e+03, 8.10308393e+03, 4.03428793e+02, 5.45981500e+01],\n",
       "       [2.71828183e+00, 2.98095799e+03, 2.00855369e+01, 1.48413159e+02],\n",
       "       [2.71828183e+00, 8.10308393e+03, 4.03428793e+02, 2.71828183e+00]])"
      ]
     },
     "execution_count": 89,
     "metadata": {},
     "output_type": "execute_result"
    }
   ],
   "source": [
    "np.exp(arr1)"
   ]
  },
  {
   "cell_type": "code",
   "execution_count": 90,
   "id": "9173f72c-5f5e-48f6-a651-140f4ea6beaa",
   "metadata": {},
   "outputs": [
    {
     "data": {
      "text/plain": [
       "array([[2.82842712, 3.        , 2.44948974, 2.        ],\n",
       "       [1.        , 2.82842712, 1.73205081, 2.23606798],\n",
       "       [1.        , 3.        , 2.44948974, 1.        ]])"
      ]
     },
     "execution_count": 90,
     "metadata": {},
     "output_type": "execute_result"
    }
   ],
   "source": [
    "np.sqrt(arr1)"
   ]
  },
  {
   "cell_type": "code",
   "execution_count": 93,
   "id": "c473c431-bb69-4a9c-af74-0c583eb9e6ff",
   "metadata": {},
   "outputs": [
    {
     "data": {
      "text/plain": [
       "array([[64, 81, 36, 16],\n",
       "       [ 1, 64,  9, 25],\n",
       "       [ 1, 81, 36,  1]])"
      ]
     },
     "execution_count": 93,
     "metadata": {},
     "output_type": "execute_result"
    }
   ],
   "source": [
    "np.power(arr1 , 2)"
   ]
  },
  {
   "cell_type": "code",
   "execution_count": 94,
   "id": "6e0a890c-5a39-43cb-bde8-82c3acaf5abb",
   "metadata": {},
   "outputs": [
    {
     "data": {
      "text/plain": [
       "5.083333333333333"
      ]
     },
     "execution_count": 94,
     "metadata": {},
     "output_type": "execute_result"
    }
   ],
   "source": [
    "np.mean(arr1)"
   ]
  },
  {
   "cell_type": "code",
   "execution_count": 97,
   "id": "3ca346bb-7cef-45ea-a34b-9c69271c7c29",
   "metadata": {},
   "outputs": [
    {
     "data": {
      "text/plain": [
       "5.5"
      ]
     },
     "execution_count": 97,
     "metadata": {},
     "output_type": "execute_result"
    }
   ],
   "source": [
    "np.median(arr1)"
   ]
  },
  {
   "cell_type": "code",
   "execution_count": 98,
   "id": "86df88be-c96a-40c1-9d0c-c9a99f9d9f8b",
   "metadata": {},
   "outputs": [
    {
     "data": {
      "text/plain": [
       "2.9568658332016953"
      ]
     },
     "execution_count": 98,
     "metadata": {},
     "output_type": "execute_result"
    }
   ],
   "source": [
    "np.std(arr1)"
   ]
  },
  {
   "cell_type": "code",
   "execution_count": 100,
   "id": "b3e46715-b911-49b4-8fea-f0e1bdd3b306",
   "metadata": {},
   "outputs": [
    {
     "data": {
      "text/plain": [
       "8.743055555555555"
      ]
     },
     "execution_count": 100,
     "metadata": {},
     "output_type": "execute_result"
    }
   ],
   "source": [
    "np.var(arr1)"
   ]
  },
  {
   "cell_type": "code",
   "execution_count": 101,
   "id": "e46ecfc5-4885-4eb3-b9ce-7ed5c6173cbe",
   "metadata": {},
   "outputs": [
    {
     "data": {
      "text/plain": [
       "1"
      ]
     },
     "execution_count": 101,
     "metadata": {},
     "output_type": "execute_result"
    }
   ],
   "source": [
    "np.min(arr1)"
   ]
  },
  {
   "cell_type": "code",
   "execution_count": 102,
   "id": "b29a4838-f908-4089-83d3-6988ab641bca",
   "metadata": {},
   "outputs": [
    {
     "data": {
      "text/plain": [
       "9"
      ]
     },
     "execution_count": 102,
     "metadata": {},
     "output_type": "execute_result"
    }
   ],
   "source": [
    "np.max(arr1)"
   ]
  },
  {
   "cell_type": "code",
   "execution_count": null,
   "id": "90dce267-4177-4a96-bed0-58103ff6e7f1",
   "metadata": {},
   "outputs": [],
   "source": []
  }
 ],
 "metadata": {
  "kernelspec": {
   "display_name": "Python 3 (ipykernel)",
   "language": "python",
   "name": "python3"
  },
  "language_info": {
   "codemirror_mode": {
    "name": "ipython",
    "version": 3
   },
   "file_extension": ".py",
   "mimetype": "text/x-python",
   "name": "python",
   "nbconvert_exporter": "python",
   "pygments_lexer": "ipython3",
   "version": "3.10.8"
  }
 },
 "nbformat": 4,
 "nbformat_minor": 5
}
