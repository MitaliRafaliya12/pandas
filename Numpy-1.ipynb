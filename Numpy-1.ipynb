{
 "cells": [
  {
   "cell_type": "code",
   "execution_count": 7,
   "id": "9d10aff7-f947-4a7f-be88-c81b35ab6d29",
   "metadata": {},
   "outputs": [
    {
     "data": {
      "text/plain": [
       "'Numpy - numerical python\\n\\nnumpy array and matrix k sath deal krta hai'"
      ]
     },
     "execution_count": 7,
     "metadata": {},
     "output_type": "execute_result"
    }
   ],
   "source": [
    "'''Numpy - numerical python\n",
    "\n",
    "numpy array and matrix k sath deal krta hai'''"
   ]
  },
  {
   "cell_type": "code",
   "execution_count": 8,
   "id": "88f374db-1303-41a5-97d2-e3d77dc1378c",
   "metadata": {},
   "outputs": [
    {
     "data": {
      "text/plain": [
       "' numpy mai array = super class\\n              matrix = sub class'"
      ]
     },
     "execution_count": 8,
     "metadata": {},
     "output_type": "execute_result"
    }
   ],
   "source": [
    "''' numpy mai array = super class\n",
    "              matrix = sub class'''"
   ]
  },
  {
   "cell_type": "code",
   "execution_count": 9,
   "id": "bb16f32b-6254-4cfe-9710-54cb55084625",
   "metadata": {},
   "outputs": [
    {
     "data": {
      "text/plain": [
       "' numpy.array()   ==  numpy.asarray   == asanyarray() ==  list ko array mai convert krna hai'"
      ]
     },
     "execution_count": 9,
     "metadata": {},
     "output_type": "execute_result"
    }
   ],
   "source": [
    "''' numpy.array()   ==  numpy.asarray   == asanyarray() ==  list ko array mai convert krna hai'''"
   ]
  },
  {
   "cell_type": "code",
   "execution_count": 10,
   "id": "7f4b3e04-7352-4599-990f-13165b6aeed3",
   "metadata": {},
   "outputs": [],
   "source": [
    "import numpy"
   ]
  },
  {
   "cell_type": "code",
   "execution_count": 11,
   "id": "a59651ed-58d6-4651-8620-dd7642f27a10",
   "metadata": {},
   "outputs": [],
   "source": [
    "l = [1,2,3,4]"
   ]
  },
  {
   "cell_type": "code",
   "execution_count": 12,
   "id": "2db043ca-6683-42ff-b4a9-02c99008cb4b",
   "metadata": {},
   "outputs": [],
   "source": [
    "ar = numpy.array(l)"
   ]
  },
  {
   "cell_type": "code",
   "execution_count": 13,
   "id": "3380ba52-ab11-4180-ac4f-70859ce9d66d",
   "metadata": {},
   "outputs": [
    {
     "data": {
      "text/plain": [
       "array([1, 2, 3, 4])"
      ]
     },
     "execution_count": 13,
     "metadata": {},
     "output_type": "execute_result"
    }
   ],
   "source": [
    "ar"
   ]
  },
  {
   "cell_type": "code",
   "execution_count": 14,
   "id": "cb51b12b-8017-41eb-819a-c68e9775b401",
   "metadata": {},
   "outputs": [
    {
     "data": {
      "text/plain": [
       "numpy.ndarray"
      ]
     },
     "execution_count": 14,
     "metadata": {},
     "output_type": "execute_result"
    }
   ],
   "source": [
    "type(ar)               # ndarray  =  n diamensional array"
   ]
  },
  {
   "cell_type": "code",
   "execution_count": 15,
   "id": "9e7e01b6-f29a-42b5-b9af-d6107efed188",
   "metadata": {},
   "outputs": [
    {
     "data": {
      "text/plain": [
       "array([1, 2, 3, 4])"
      ]
     },
     "execution_count": 15,
     "metadata": {},
     "output_type": "execute_result"
    }
   ],
   "source": [
    "# 1d array = single list pass = iska coordinate system mai represent sirf x axis pr hoga\n",
    "numpy.array([1,2,3,4])"
   ]
  },
  {
   "cell_type": "code",
   "execution_count": 16,
   "id": "747b4859-9a91-4a03-b644-fd36a65e826f",
   "metadata": {},
   "outputs": [
    {
     "data": {
      "text/plain": [
       "array([[1, 2],\n",
       "       [3, 4]])"
      ]
     },
     "execution_count": 16,
     "metadata": {},
     "output_type": "execute_result"
    }
   ],
   "source": [
    "#2d array = single list k andar multiple list pass kroge \n",
    "# iska coordinate system mai represent =  default index ko dekr y axis and x axis pr hoga\n",
    "numpy.array([[1,2],[3,4]])"
   ]
  },
  {
   "cell_type": "code",
   "execution_count": 17,
   "id": "6380799e-1dc8-4e5b-8075-42850ae921b5",
   "metadata": {},
   "outputs": [
    {
     "data": {
      "text/plain": [
       "array([1, 2, 3, 4])"
      ]
     },
     "execution_count": 17,
     "metadata": {},
     "output_type": "execute_result"
    }
   ],
   "source": [
    "numpy.asarray([1,2,3,4])"
   ]
  },
  {
   "cell_type": "code",
   "execution_count": 18,
   "id": "81606dfe-e66e-416f-bf48-b482b9edbea7",
   "metadata": {},
   "outputs": [],
   "source": [
    "a = [2,3,4]"
   ]
  },
  {
   "cell_type": "code",
   "execution_count": 19,
   "id": "96780ee7-0155-4254-8a22-c9dcb1234ab6",
   "metadata": {},
   "outputs": [
    {
     "data": {
      "text/plain": [
       "array([2, 3, 4])"
      ]
     },
     "execution_count": 19,
     "metadata": {},
     "output_type": "execute_result"
    }
   ],
   "source": [
    "numpy.asanyarray(a)"
   ]
  },
  {
   "cell_type": "code",
   "execution_count": 20,
   "id": "4ec679cc-0eaf-417b-b5a1-066362b3801d",
   "metadata": {},
   "outputs": [
    {
     "data": {
      "text/plain": [
       "'matrix() = bydefault 2d array hota hai'"
      ]
     },
     "execution_count": 20,
     "metadata": {},
     "output_type": "execute_result"
    }
   ],
   "source": [
    "'''matrix() = bydefault 2d array hota hai'''"
   ]
  },
  {
   "cell_type": "code",
   "execution_count": 21,
   "id": "f718abc9-dbce-42d2-aa93-bde0ee54cbbc",
   "metadata": {},
   "outputs": [],
   "source": [
    "m = numpy.matrix([1,2,3,4])   # 2 list so 2 daimensional"
   ]
  },
  {
   "cell_type": "code",
   "execution_count": 22,
   "id": "ab8588a0-8b27-49b7-9db7-aab633708d34",
   "metadata": {},
   "outputs": [
    {
     "data": {
      "text/plain": [
       "matrix([[1, 2, 3, 4]])"
      ]
     },
     "execution_count": 22,
     "metadata": {},
     "output_type": "execute_result"
    }
   ],
   "source": [
    "''' yha pe asanyarray matrix ko array mai convert nahi krega \n",
    "kyoki matrix 2d array hi hai'''\n",
    "numpy.asanyarray(m)"
   ]
  },
  {
   "cell_type": "code",
   "execution_count": null,
   "id": "fcb7456b-7468-424d-b007-5128258a0ec6",
   "metadata": {},
   "outputs": [],
   "source": []
  },
  {
   "cell_type": "code",
   "execution_count": 23,
   "id": "ff877545-1987-4913-82f1-acf40e5b9185",
   "metadata": {},
   "outputs": [],
   "source": [
    "m = numpy.array([1,2,3,4,5,6])"
   ]
  },
  {
   "cell_type": "code",
   "execution_count": 24,
   "id": "f3d9bfe3-a144-4446-a094-edc97b12db8b",
   "metadata": {},
   "outputs": [],
   "source": [
    "n = m"
   ]
  },
  {
   "cell_type": "code",
   "execution_count": 25,
   "id": "1a908b3a-e7d1-4802-a277-019a93ec1f87",
   "metadata": {},
   "outputs": [
    {
     "data": {
      "text/plain": [
       "array([1, 2, 3, 4, 5, 6])"
      ]
     },
     "execution_count": 25,
     "metadata": {},
     "output_type": "execute_result"
    }
   ],
   "source": [
    "n"
   ]
  },
  {
   "cell_type": "code",
   "execution_count": 26,
   "id": "34ec7ada-37ad-42a5-ad78-23e051ff2a60",
   "metadata": {},
   "outputs": [
    {
     "data": {
      "text/plain": [
       "1"
      ]
     },
     "execution_count": 26,
     "metadata": {},
     "output_type": "execute_result"
    }
   ],
   "source": [
    "n[0]"
   ]
  },
  {
   "cell_type": "code",
   "execution_count": 27,
   "id": "cd3a4d8a-5688-4778-bc17-5adb0a24e4bc",
   "metadata": {},
   "outputs": [],
   "source": [
    "n[0] = 100"
   ]
  },
  {
   "cell_type": "code",
   "execution_count": 28,
   "id": "487be064-7630-4579-90d4-1d1a545c1e1a",
   "metadata": {},
   "outputs": [
    {
     "data": {
      "text/plain": [
       "array([100,   2,   3,   4,   5,   6])"
      ]
     },
     "execution_count": 28,
     "metadata": {},
     "output_type": "execute_result"
    }
   ],
   "source": [
    "n"
   ]
  },
  {
   "cell_type": "code",
   "execution_count": 29,
   "id": "ca149b50-24a4-4fe5-8ee1-6d76bab058ec",
   "metadata": {},
   "outputs": [
    {
     "data": {
      "text/plain": [
       "array([100,   2,   3,   4,   5,   6])"
      ]
     },
     "execution_count": 29,
     "metadata": {},
     "output_type": "execute_result"
    }
   ],
   "source": [
    "m"
   ]
  },
  {
   "cell_type": "code",
   "execution_count": 30,
   "id": "94550699-62b5-4ed9-a49d-4d2dd57547d3",
   "metadata": {},
   "outputs": [
    {
     "data": {
      "text/plain": [
       "'svelo copy = same location pr data ko copy kr rhe ho \\n(alag location pr store nahi kr rhe ho) \\nso jo b variable usko access krta hai wo usko manipulate b kr skega'"
      ]
     },
     "execution_count": 30,
     "metadata": {},
     "output_type": "execute_result"
    }
   ],
   "source": [
    "'''m = array \n",
    "   n = m       jo b change kro ge usko m ,n dono se updated array le paoge'''\n",
    "\n",
    "'''svelo copy = same location pr data ko copy kr rhe ho \n",
    "(alag location pr store nahi kr rhe ho) \n",
    "so jo b variable usko access krta hai wo usko manipulate b kr skega'''"
   ]
  },
  {
   "cell_type": "code",
   "execution_count": 31,
   "id": "73131d16-27de-439c-adf2-86a088020ab2",
   "metadata": {},
   "outputs": [],
   "source": [
    "'''deep copy = different location pe copy ko store kr rha he \n",
    "so perticular variable se perticular changes ko access kr skte ho'''\n",
    "\n",
    "d = numpy.copy(m)"
   ]
  },
  {
   "cell_type": "code",
   "execution_count": 32,
   "id": "24dba8fe-0695-44ea-8413-2fc45fcb1754",
   "metadata": {},
   "outputs": [
    {
     "data": {
      "text/plain": [
       "array([100,   2,   3,   4,   5,   6])"
      ]
     },
     "execution_count": 32,
     "metadata": {},
     "output_type": "execute_result"
    }
   ],
   "source": [
    "d"
   ]
  },
  {
   "cell_type": "code",
   "execution_count": 33,
   "id": "bba032d1-ef1b-45a3-94eb-50cc54eb74eb",
   "metadata": {},
   "outputs": [
    {
     "data": {
      "text/plain": [
       "array([100,   2,   3,   4,   5,   6])"
      ]
     },
     "execution_count": 33,
     "metadata": {},
     "output_type": "execute_result"
    }
   ],
   "source": [
    "m"
   ]
  },
  {
   "cell_type": "code",
   "execution_count": 34,
   "id": "b266f073-8cdc-4359-9a22-88d29d8435e4",
   "metadata": {},
   "outputs": [],
   "source": [
    "m[1] = 20"
   ]
  },
  {
   "cell_type": "code",
   "execution_count": 35,
   "id": "c182ab02-22bd-41f7-ac6a-92bd4822d636",
   "metadata": {},
   "outputs": [
    {
     "data": {
      "text/plain": [
       "array([100,  20,   3,   4,   5,   6])"
      ]
     },
     "execution_count": 35,
     "metadata": {},
     "output_type": "execute_result"
    }
   ],
   "source": [
    "m"
   ]
  },
  {
   "cell_type": "code",
   "execution_count": 36,
   "id": "0026bfa8-6ea5-4ab0-a5cd-d16c54fea5c5",
   "metadata": {},
   "outputs": [
    {
     "data": {
      "text/plain": [
       "array([100,   2,   3,   4,   5,   6])"
      ]
     },
     "execution_count": 36,
     "metadata": {},
     "output_type": "execute_result"
    }
   ],
   "source": [
    "d"
   ]
  },
  {
   "cell_type": "code",
   "execution_count": 37,
   "id": "8dc8b242-14de-473e-a00e-b63351f097e6",
   "metadata": {},
   "outputs": [
    {
     "data": {
      "text/plain": [
       "'fromfunction() = diff-diff daimentional ka array generate krna'"
      ]
     },
     "execution_count": 37,
     "metadata": {},
     "output_type": "execute_result"
    }
   ],
   "source": [
    "'''fromfunction() = diff-diff daimentional ka array generate krna''' "
   ]
  },
  {
   "cell_type": "code",
   "execution_count": 38,
   "id": "57407024-4a4d-4052-91be-1a294034d056",
   "metadata": {},
   "outputs": [
    {
     "data": {
      "text/plain": [
       "array([[ True, False, False, False, False],\n",
       "       [False,  True, False, False, False],\n",
       "       [False, False,  True, False, False],\n",
       "       [False, False, False,  True, False],\n",
       "       [False, False, False, False,  True]])"
      ]
     },
     "execution_count": 38,
     "metadata": {},
     "output_type": "execute_result"
    }
   ],
   "source": [
    "numpy.fromfunction(lambda i,j : i==j , (5,5))"
   ]
  },
  {
   "cell_type": "code",
   "execution_count": null,
   "id": "41204c81-38a8-450f-9e20-0d26e81e298f",
   "metadata": {},
   "outputs": [],
   "source": []
  },
  {
   "cell_type": "code",
   "execution_count": 39,
   "id": "7f16bee9-01bb-4793-91c8-9fa9675f427c",
   "metadata": {},
   "outputs": [
    {
     "data": {
      "text/plain": [
       "array([[ True, False, False],\n",
       "       [False,  True, False],\n",
       "       [False, False,  True]])"
      ]
     },
     "execution_count": 39,
     "metadata": {},
     "output_type": "execute_result"
    }
   ],
   "source": [
    "numpy.fromfunction(lambda i,j : i==j ,(3,3))"
   ]
  },
  {
   "cell_type": "code",
   "execution_count": 40,
   "id": "77ba5570-8f72-4af5-a3ff-415569ed5e16",
   "metadata": {},
   "outputs": [
    {
     "data": {
      "text/plain": [
       "array([[0., 0., 0.],\n",
       "       [0., 1., 2.],\n",
       "       [0., 2., 4.]])"
      ]
     },
     "execution_count": 40,
     "metadata": {},
     "output_type": "execute_result"
    }
   ],
   "source": [
    "numpy.fromfunction(lambda i,j : i*j ,(3,3))"
   ]
  },
  {
   "cell_type": "code",
   "execution_count": 41,
   "id": "5b26a2ab-059c-483b-af8c-7ece189dc1d1",
   "metadata": {},
   "outputs": [
    {
     "data": {
      "text/plain": [
       "\"fromiter(iterable variable  ,  dtype) \\n \\n   fromstring(string  ,  sep = 'string ko aap kis se tod na chahte ho')\""
      ]
     },
     "execution_count": 41,
     "metadata": {},
     "output_type": "execute_result"
    }
   ],
   "source": [
    "'''fromiter(iterable variable  ,  dtype) \n",
    " \n",
    "   fromstring(string  ,  sep = 'string ko aap kis se tod na chahte ho')'''"
   ]
  },
  {
   "cell_type": "code",
   "execution_count": 42,
   "id": "78e55dab-5793-4033-819d-68657d4c6f3b",
   "metadata": {},
   "outputs": [],
   "source": [
    "iterable = [i*i for i in range(5)]"
   ]
  },
  {
   "cell_type": "code",
   "execution_count": 43,
   "id": "c0e5a7fc-ad2c-4e9a-87d3-6870028693a1",
   "metadata": {},
   "outputs": [
    {
     "data": {
      "text/plain": [
       "array([ 0,  1,  4,  9, 16])"
      ]
     },
     "execution_count": 43,
     "metadata": {},
     "output_type": "execute_result"
    }
   ],
   "source": [
    "numpy.fromiter(iterable,int)          # generating array"
   ]
  },
  {
   "cell_type": "code",
   "execution_count": null,
   "id": "1d1ceab2-2ad7-44f9-817b-a66c99ca8aad",
   "metadata": {},
   "outputs": [],
   "source": []
  },
  {
   "cell_type": "code",
   "execution_count": 44,
   "id": "ff39b556-9073-4f61-829b-2f3fb67f98f0",
   "metadata": {},
   "outputs": [
    {
     "data": {
      "text/plain": [
       "array([12., 15.])"
      ]
     },
     "execution_count": 44,
     "metadata": {},
     "output_type": "execute_result"
    }
   ],
   "source": [
    "numpy.fromstring('12 , 15' , sep = ',' )       # generating array"
   ]
  },
  {
   "cell_type": "code",
   "execution_count": null,
   "id": "a915f266-1bd3-448f-9406-628e70a9bb49",
   "metadata": {},
   "outputs": [],
   "source": []
  },
  {
   "cell_type": "code",
   "execution_count": 45,
   "id": "735126ad-2c96-47b1-9370-505ff4d4c7ca",
   "metadata": {},
   "outputs": [
    {
     "data": {
      "text/plain": [
       "' arr.ndim   =   diamention kitna hai\\n    arr.size   =   kitne eles hai\\n    shape      =  n , m \\n    dtypes     =   datatypes \\n    '"
      ]
     },
     "execution_count": 45,
     "metadata": {},
     "output_type": "execute_result"
    }
   ],
   "source": [
    "# numpy - data type\n",
    "\n",
    "''' arr.ndim   =   diamention kitna hai\n",
    "    arr.size   =   kitne eles hai\n",
    "    shape      =  n , m \n",
    "    dtypes     =   datatypes \n",
    "    '''"
   ]
  },
  {
   "cell_type": "code",
   "execution_count": 46,
   "id": "3f00c4d3-0813-4051-97ad-3b5ed80cf0f0",
   "metadata": {},
   "outputs": [],
   "source": [
    "l = [1,2,3,4,5,6]"
   ]
  },
  {
   "cell_type": "code",
   "execution_count": 47,
   "id": "2cc11db6-aca9-4622-8524-f17e1b463dba",
   "metadata": {},
   "outputs": [],
   "source": [
    "ar = numpy.array(l)"
   ]
  },
  {
   "cell_type": "code",
   "execution_count": 48,
   "id": "bee861d8-a89d-46f1-93df-80abf7cf5ee6",
   "metadata": {},
   "outputs": [
    {
     "data": {
      "text/plain": [
       "array([1, 2, 3, 4, 5, 6])"
      ]
     },
     "execution_count": 48,
     "metadata": {},
     "output_type": "execute_result"
    }
   ],
   "source": [
    "ar"
   ]
  },
  {
   "cell_type": "code",
   "execution_count": 49,
   "id": "1894d4d9-4a07-442f-8c71-a24998c9e6a4",
   "metadata": {},
   "outputs": [
    {
     "data": {
      "text/plain": [
       "1"
      ]
     },
     "execution_count": 49,
     "metadata": {},
     "output_type": "execute_result"
    }
   ],
   "source": [
    "# array ka daimentional \n",
    "ar.ndim"
   ]
  },
  {
   "cell_type": "code",
   "execution_count": 50,
   "id": "81f5b6a3-f8fb-4f76-8989-d416b701e0e8",
   "metadata": {},
   "outputs": [],
   "source": [
    "ar2 = numpy.array([[1,2,6],[3,4,5]])"
   ]
  },
  {
   "cell_type": "code",
   "execution_count": 51,
   "id": "5c0adb4e-bad0-4a88-b8b6-14d75b45f07b",
   "metadata": {},
   "outputs": [
    {
     "data": {
      "text/plain": [
       "2"
      ]
     },
     "execution_count": 51,
     "metadata": {},
     "output_type": "execute_result"
    }
   ],
   "source": [
    "ar2.ndim"
   ]
  },
  {
   "cell_type": "code",
   "execution_count": 52,
   "id": "3f7a1f6c-e4ab-4227-aecf-98b329beaff1",
   "metadata": {},
   "outputs": [
    {
     "data": {
      "text/plain": [
       "6"
      ]
     },
     "execution_count": 52,
     "metadata": {},
     "output_type": "execute_result"
    }
   ],
   "source": [
    "ar2.size"
   ]
  },
  {
   "cell_type": "code",
   "execution_count": 53,
   "id": "86b45866-4325-4aa5-ac69-283665ba9fc5",
   "metadata": {},
   "outputs": [
    {
     "data": {
      "text/plain": [
       "(2, 3)"
      ]
     },
     "execution_count": 53,
     "metadata": {},
     "output_type": "execute_result"
    }
   ],
   "source": [
    "ar2.shape"
   ]
  },
  {
   "cell_type": "code",
   "execution_count": 54,
   "id": "607e31ac-0680-4eaf-8e87-6028619a6ea0",
   "metadata": {},
   "outputs": [
    {
     "data": {
      "text/plain": [
       "array([[1, 2, 6],\n",
       "       [3, 4, 5]])"
      ]
     },
     "execution_count": 54,
     "metadata": {},
     "output_type": "execute_result"
    }
   ],
   "source": [
    "ar2"
   ]
  },
  {
   "cell_type": "code",
   "execution_count": 55,
   "id": "ea088f0f-494c-43f7-b162-72c3eb5fc100",
   "metadata": {},
   "outputs": [
    {
     "data": {
      "text/plain": [
       "dtype('int64')"
      ]
     },
     "execution_count": 55,
     "metadata": {},
     "output_type": "execute_result"
    }
   ],
   "source": [
    "ar2.dtype"
   ]
  },
  {
   "cell_type": "code",
   "execution_count": null,
   "id": "8832630a-2090-4d54-bdc3-5d126a5c5316",
   "metadata": {},
   "outputs": [],
   "source": []
  },
  {
   "cell_type": "code",
   "execution_count": 56,
   "id": "f41de21e-d90f-45e7-8550-328b829e3890",
   "metadata": {},
   "outputs": [
    {
     "data": {
      "text/plain": [
       "[0, 1, 2, 3, 4]"
      ]
     },
     "execution_count": 56,
     "metadata": {},
     "output_type": "execute_result"
    }
   ],
   "source": [
    "list(range(5))"
   ]
  },
  {
   "cell_type": "code",
   "execution_count": null,
   "id": "a8fb5c1b-17cd-4850-bd17-428bbcf0086a",
   "metadata": {},
   "outputs": [],
   "source": []
  },
  {
   "cell_type": "code",
   "execution_count": 68,
   "id": "1a080fb1-91d1-4644-9804-d813a4d9c63c",
   "metadata": {},
   "outputs": [
    {
     "data": {
      "text/plain": [
       "'array ko autometic generate\\nnumpy.arange(start,end,jump) = floating value b dal skte hai '"
      ]
     },
     "execution_count": 68,
     "metadata": {},
     "output_type": "execute_result"
    }
   ],
   "source": [
    "'''array ko autometic generate\n",
    "numpy.arange(start,end,jump) = floating value b dal skte hai '''"
   ]
  },
  {
   "cell_type": "code",
   "execution_count": 61,
   "id": "bd459473-85e9-4f3a-a379-76d160ec3838",
   "metadata": {},
   "outputs": [
    {
     "data": {
      "text/plain": [
       "array([2.3, 2.8, 3.3, 3.8, 4.3, 4.8, 5.3])"
      ]
     },
     "execution_count": 61,
     "metadata": {},
     "output_type": "execute_result"
    }
   ],
   "source": [
    "numpy.arange(2.3,5.6,0.5)"
   ]
  },
  {
   "cell_type": "code",
   "execution_count": 64,
   "id": "6f368d48-fa47-44c3-b93e-a03f0bbd2c04",
   "metadata": {},
   "outputs": [
    {
     "data": {
      "text/plain": [
       "[2.3,\n",
       " 2.5999999999999996,\n",
       " 2.8999999999999995,\n",
       " 3.1999999999999993,\n",
       " 3.499999999999999,\n",
       " 3.799999999999999,\n",
       " 4.099999999999999,\n",
       " 4.399999999999999,\n",
       " 4.699999999999998,\n",
       " 4.999999999999998,\n",
       " 5.299999999999998]"
      ]
     },
     "execution_count": 64,
     "metadata": {},
     "output_type": "execute_result"
    }
   ],
   "source": [
    "list(numpy.arange(2.3,5.6,0.3))"
   ]
  },
  {
   "cell_type": "code",
   "execution_count": 70,
   "id": "e390dbfe-6b83-4b09-89d2-ea8d9760f43a",
   "metadata": {},
   "outputs": [
    {
     "data": {
      "text/plain": [
       "'linspace()  = para ye dono k bich k itne data generate kro'"
      ]
     },
     "execution_count": 70,
     "metadata": {},
     "output_type": "execute_result"
    }
   ],
   "source": [
    "'''linspace()  = para ye dono k bich k itne data generate kro'''"
   ]
  },
  {
   "cell_type": "code",
   "execution_count": 69,
   "id": "d8f4bb03-7a9a-4eb9-9907-930b23f80cbd",
   "metadata": {},
   "outputs": [
    {
     "data": {
      "text/plain": [
       "array([10.        , 10.55555556, 11.11111111, 11.66666667, 12.22222222,\n",
       "       12.77777778, 13.33333333, 13.88888889, 14.44444444, 15.        ])"
      ]
     },
     "execution_count": 69,
     "metadata": {},
     "output_type": "execute_result"
    }
   ],
   "source": [
    "numpy.linspace(10,15,10)"
   ]
  },
  {
   "cell_type": "code",
   "execution_count": 79,
   "id": "fe98dc81-d462-48a3-9f47-6bed27f683c9",
   "metadata": {},
   "outputs": [
    {
     "data": {
      "text/plain": [
       "'.zero()  =  zero array'"
      ]
     },
     "execution_count": 79,
     "metadata": {},
     "output_type": "execute_result"
    }
   ],
   "source": [
    "'''.zero()  =  zero array'''"
   ]
  },
  {
   "cell_type": "code",
   "execution_count": 71,
   "id": "be31a676-61db-4e0f-9640-ffec4dba49f2",
   "metadata": {},
   "outputs": [
    {
     "data": {
      "text/plain": [
       "array([0., 0., 0., 0.])"
      ]
     },
     "execution_count": 71,
     "metadata": {},
     "output_type": "execute_result"
    }
   ],
   "source": [
    "numpy.zeros(4)    # 1d"
   ]
  },
  {
   "cell_type": "code",
   "execution_count": 77,
   "id": "59595e91-b311-4c1c-a934-8f863747e027",
   "metadata": {},
   "outputs": [
    {
     "data": {
      "text/plain": [
       "array([[0., 0., 0., 0., 0.],\n",
       "       [0., 0., 0., 0., 0.],\n",
       "       [0., 0., 0., 0., 0.],\n",
       "       [0., 0., 0., 0., 0.]])"
      ]
     },
     "execution_count": 77,
     "metadata": {},
     "output_type": "execute_result"
    }
   ],
   "source": [
    "numpy.zeros((4,5))           # 2d ((row,col))"
   ]
  },
  {
   "cell_type": "code",
   "execution_count": 78,
   "id": "9c0f3618-fc9b-4732-8b59-2e52ad8c1a57",
   "metadata": {},
   "outputs": [
    {
     "data": {
      "text/plain": [
       "array([[[0., 0.],\n",
       "        [0., 0.],\n",
       "        [0., 0.],\n",
       "        [0., 0.]],\n",
       "\n",
       "       [[0., 0.],\n",
       "        [0., 0.],\n",
       "        [0., 0.],\n",
       "        [0., 0.]],\n",
       "\n",
       "       [[0., 0.],\n",
       "        [0., 0.],\n",
       "        [0., 0.],\n",
       "        [0., 0.]]])"
      ]
     },
     "execution_count": 78,
     "metadata": {},
     "output_type": "execute_result"
    }
   ],
   "source": [
    "numpy.zeros((3,4,2))           # 3d ((size , row , col))"
   ]
  },
  {
   "cell_type": "code",
   "execution_count": null,
   "id": "5e0e9e65-3009-4eb4-9156-2281d05ebec6",
   "metadata": {},
   "outputs": [],
   "source": []
  },
  {
   "cell_type": "code",
   "execution_count": 87,
   "id": "5644b323-9ef6-47c1-8a67-e8e75a1f3c40",
   "metadata": {},
   "outputs": [
    {
     "data": {
      "text/plain": [
       "array([[[[[0., 0., 0., 0., 0., 0.],\n",
       "          [0., 0., 0., 0., 0., 0.],\n",
       "          [0., 0., 0., 0., 0., 0.]],\n",
       "\n",
       "         [[0., 0., 0., 0., 0., 0.],\n",
       "          [0., 0., 0., 0., 0., 0.],\n",
       "          [0., 0., 0., 0., 0., 0.]]],\n",
       "\n",
       "\n",
       "        [[[0., 0., 0., 0., 0., 0.],\n",
       "          [0., 0., 0., 0., 0., 0.],\n",
       "          [0., 0., 0., 0., 0., 0.]],\n",
       "\n",
       "         [[0., 0., 0., 0., 0., 0.],\n",
       "          [0., 0., 0., 0., 0., 0.],\n",
       "          [0., 0., 0., 0., 0., 0.]]],\n",
       "\n",
       "\n",
       "        [[[0., 0., 0., 0., 0., 0.],\n",
       "          [0., 0., 0., 0., 0., 0.],\n",
       "          [0., 0., 0., 0., 0., 0.]],\n",
       "\n",
       "         [[0., 0., 0., 0., 0., 0.],\n",
       "          [0., 0., 0., 0., 0., 0.],\n",
       "          [0., 0., 0., 0., 0., 0.]]]],\n",
       "\n",
       "\n",
       "\n",
       "       [[[[0., 0., 0., 0., 0., 0.],\n",
       "          [0., 0., 0., 0., 0., 0.],\n",
       "          [0., 0., 0., 0., 0., 0.]],\n",
       "\n",
       "         [[0., 0., 0., 0., 0., 0.],\n",
       "          [0., 0., 0., 0., 0., 0.],\n",
       "          [0., 0., 0., 0., 0., 0.]]],\n",
       "\n",
       "\n",
       "        [[[0., 0., 0., 0., 0., 0.],\n",
       "          [0., 0., 0., 0., 0., 0.],\n",
       "          [0., 0., 0., 0., 0., 0.]],\n",
       "\n",
       "         [[0., 0., 0., 0., 0., 0.],\n",
       "          [0., 0., 0., 0., 0., 0.],\n",
       "          [0., 0., 0., 0., 0., 0.]]],\n",
       "\n",
       "\n",
       "        [[[0., 0., 0., 0., 0., 0.],\n",
       "          [0., 0., 0., 0., 0., 0.],\n",
       "          [0., 0., 0., 0., 0., 0.]],\n",
       "\n",
       "         [[0., 0., 0., 0., 0., 0.],\n",
       "          [0., 0., 0., 0., 0., 0.],\n",
       "          [0., 0., 0., 0., 0., 0.]]]]])"
      ]
     },
     "execution_count": 87,
     "metadata": {},
     "output_type": "execute_result"
    }
   ],
   "source": [
    "\n",
    "\n",
    "''' 3 rows\n",
    "    6 cols\n",
    "2*3*2 size'''\n",
    "\n",
    "numpy.zeros((2,3,2,3,6))"
   ]
  },
  {
   "cell_type": "code",
   "execution_count": 89,
   "id": "28b0b4d0-d674-411a-ab22-858375366b76",
   "metadata": {},
   "outputs": [
    {
     "data": {
      "text/plain": [
       "5"
      ]
     },
     "execution_count": 89,
     "metadata": {},
     "output_type": "execute_result"
    }
   ],
   "source": [
    "numpy.zeros((2,3,2,3,6)).ndim    # 5d array"
   ]
  },
  {
   "cell_type": "code",
   "execution_count": null,
   "id": "941338e2-1746-4495-8973-ecb4ae54860b",
   "metadata": {},
   "outputs": [],
   "source": []
  },
  {
   "cell_type": "code",
   "execution_count": 96,
   "id": "e4d099c3-3347-49e3-b93d-b34a0dc0dfd7",
   "metadata": {},
   "outputs": [
    {
     "data": {
      "text/plain": [
       "' till 3d hi aap visulization kr skte ho'"
      ]
     },
     "execution_count": 96,
     "metadata": {},
     "output_type": "execute_result"
    }
   ],
   "source": [
    "''' till 3d hi aap visulization kr skte ho'''"
   ]
  },
  {
   "cell_type": "code",
   "execution_count": 126,
   "id": "db4b2218-0ff6-4756-9615-e1d1d76ae250",
   "metadata": {},
   "outputs": [
    {
     "data": {
      "text/plain": [
       "'.ones()  =  sare ele ki value 1 array'"
      ]
     },
     "execution_count": 126,
     "metadata": {},
     "output_type": "execute_result"
    }
   ],
   "source": [
    "'''.ones()  =  sare ele ki value 1 array'''"
   ]
  },
  {
   "cell_type": "code",
   "execution_count": 97,
   "id": "9580776f-bf84-4816-aabe-0a0e34155af6",
   "metadata": {},
   "outputs": [
    {
     "data": {
      "text/plain": [
       "array([1., 1., 1., 1., 1., 1., 1.])"
      ]
     },
     "execution_count": 97,
     "metadata": {},
     "output_type": "execute_result"
    }
   ],
   "source": [
    "numpy.ones(7)"
   ]
  },
  {
   "cell_type": "code",
   "execution_count": 98,
   "id": "0669685e-9137-4c54-9e86-4ce3e91b5c64",
   "metadata": {},
   "outputs": [
    {
     "data": {
      "text/plain": [
       "array([[1., 1., 1., 1.],\n",
       "       [1., 1., 1., 1.],\n",
       "       [1., 1., 1., 1.]])"
      ]
     },
     "execution_count": 98,
     "metadata": {},
     "output_type": "execute_result"
    }
   ],
   "source": [
    "numpy.ones((3,4))"
   ]
  },
  {
   "cell_type": "code",
   "execution_count": 99,
   "id": "4690c438-9ea1-497f-89f4-2a5d17ef4aee",
   "metadata": {},
   "outputs": [
    {
     "data": {
      "text/plain": [
       "array([[[1., 1., 1., 1.],\n",
       "        [1., 1., 1., 1.],\n",
       "        [1., 1., 1., 1.]],\n",
       "\n",
       "       [[1., 1., 1., 1.],\n",
       "        [1., 1., 1., 1.],\n",
       "        [1., 1., 1., 1.]],\n",
       "\n",
       "       [[1., 1., 1., 1.],\n",
       "        [1., 1., 1., 1.],\n",
       "        [1., 1., 1., 1.]]])"
      ]
     },
     "execution_count": 99,
     "metadata": {},
     "output_type": "execute_result"
    }
   ],
   "source": [
    "numpy.ones((3,3,4))"
   ]
  },
  {
   "cell_type": "code",
   "execution_count": null,
   "id": "b8ad4c1b-e324-4165-bf56-8af436a1a21e",
   "metadata": {},
   "outputs": [],
   "source": []
  },
  {
   "cell_type": "code",
   "execution_count": 100,
   "id": "76bef1b9-1995-447e-aeee-af19d0655999",
   "metadata": {},
   "outputs": [],
   "source": [
    "on = numpy.ones((3,4))"
   ]
  },
  {
   "cell_type": "code",
   "execution_count": 101,
   "id": "5cce688f-90a4-42b9-901e-30a3ec62cc33",
   "metadata": {},
   "outputs": [
    {
     "data": {
      "text/plain": [
       "array([[6., 6., 6., 6.],\n",
       "       [6., 6., 6., 6.],\n",
       "       [6., 6., 6., 6.]])"
      ]
     },
     "execution_count": 101,
     "metadata": {},
     "output_type": "execute_result"
    }
   ],
   "source": [
    "on + 5"
   ]
  },
  {
   "cell_type": "code",
   "execution_count": 102,
   "id": "e3fefb69-2538-4b34-8740-5bc100469a02",
   "metadata": {},
   "outputs": [
    {
     "data": {
      "text/plain": [
       "array([[4., 4., 4., 4.],\n",
       "       [4., 4., 4., 4.],\n",
       "       [4., 4., 4., 4.]])"
      ]
     },
     "execution_count": 102,
     "metadata": {},
     "output_type": "execute_result"
    }
   ],
   "source": [
    "on * 4"
   ]
  },
  {
   "cell_type": "code",
   "execution_count": 104,
   "id": "cc4c9934-2328-41a1-ac14-3b4c48a23617",
   "metadata": {},
   "outputs": [
    {
     "data": {
      "text/plain": [
       "array([[0.5, 0.5, 0.5, 0.5],\n",
       "       [0.5, 0.5, 0.5, 0.5],\n",
       "       [0.5, 0.5, 0.5, 0.5]])"
      ]
     },
     "execution_count": 104,
     "metadata": {},
     "output_type": "execute_result"
    }
   ],
   "source": [
    "on + 5"
   ]
  },
  {
   "cell_type": "code",
   "execution_count": 105,
   "id": "716b8427-0613-473d-bc24-48f27a9aab78",
   "metadata": {},
   "outputs": [
    {
     "data": {
      "text/plain": [
       "array([[0.2, 0.2, 0.2, 0.2],\n",
       "       [0.2, 0.2, 0.2, 0.2],\n",
       "       [0.2, 0.2, 0.2, 0.2]])"
      ]
     },
     "execution_count": 105,
     "metadata": {},
     "output_type": "execute_result"
    }
   ],
   "source": [
    "on / 5"
   ]
  },
  {
   "cell_type": "code",
   "execution_count": null,
   "id": "794aefb5-f1bb-4e98-87d3-e2ad13f38206",
   "metadata": {},
   "outputs": [],
   "source": []
  },
  {
   "cell_type": "code",
   "execution_count": 124,
   "id": "0881b909-8197-4717-b6b2-e5cd753b30e3",
   "metadata": {},
   "outputs": [
    {
     "data": {
      "text/plain": [
       "array([[4.67548857e-310, 6.94348129e-310, 6.94348316e-310,\n",
       "        6.94348326e-310, 6.94348129e-310, 6.94348232e-310,\n",
       "        6.94348240e-310],\n",
       "       [6.94348226e-310, 6.94348204e-310, 6.94348129e-310,\n",
       "        6.94348306e-310, 6.94348331e-310, 6.94348129e-310,\n",
       "        6.94348129e-310],\n",
       "       [6.94348129e-310, 6.94348130e-310, 6.94348326e-310,\n",
       "        2.42092166e-322, 4.67604602e-310, 6.94348359e-310,\n",
       "        1.02765654e-321]])"
      ]
     },
     "execution_count": 124,
     "metadata": {},
     "output_type": "execute_result"
    }
   ],
   "source": [
    "'''empty array'''\n",
    "numpy.empty((3,7))"
   ]
  },
  {
   "cell_type": "code",
   "execution_count": 129,
   "id": "6841c08c-76ba-45f3-96d0-9e833a34e70b",
   "metadata": {},
   "outputs": [
    {
     "data": {
      "text/plain": [
       "' eye()  =  identity matrix'"
      ]
     },
     "execution_count": 129,
     "metadata": {},
     "output_type": "execute_result"
    }
   ],
   "source": [
    "''' eye()  =  identity matrix'''"
   ]
  },
  {
   "cell_type": "code",
   "execution_count": 127,
   "id": "3fe705e4-5fdb-408e-bcdc-7c9e05e3ed5d",
   "metadata": {},
   "outputs": [
    {
     "data": {
      "text/plain": [
       "array([[1., 0., 0., 0., 0.],\n",
       "       [0., 1., 0., 0., 0.],\n",
       "       [0., 0., 1., 0., 0.],\n",
       "       [0., 0., 0., 1., 0.],\n",
       "       [0., 0., 0., 0., 1.]])"
      ]
     },
     "execution_count": 127,
     "metadata": {},
     "output_type": "execute_result"
    }
   ],
   "source": [
    "numpy.eye(5)"
   ]
  },
  {
   "cell_type": "code",
   "execution_count": null,
   "id": "925e9869-29ad-415a-b275-55e1fe6e001b",
   "metadata": {},
   "outputs": [],
   "source": []
  },
  {
   "cell_type": "code",
   "execution_count": 134,
   "id": "8205cfb7-c042-4770-9e71-d26fc39d7ee6",
   "metadata": {},
   "outputs": [
    {
     "data": {
      "text/plain": [
       "array([2.        , 2.10526316, 2.21052632, 2.31578947, 2.42105263,\n",
       "       2.52631579, 2.63157895, 2.73684211, 2.84210526, 2.94736842,\n",
       "       3.05263158, 3.15789474, 3.26315789, 3.36842105, 3.47368421,\n",
       "       3.57894737, 3.68421053, 3.78947368, 3.89473684, 4.        ])"
      ]
     },
     "execution_count": 134,
     "metadata": {},
     "output_type": "execute_result"
    }
   ],
   "source": [
    "# 2 and 4 li line ko leke use 20 se divide kr dega\n",
    "numpy.linspace(2,4,20)"
   ]
  },
  {
   "cell_type": "code",
   "execution_count": null,
   "id": "095285fa-2969-417f-a6ab-8ce7f3ebd78e",
   "metadata": {},
   "outputs": [],
   "source": []
  },
  {
   "cell_type": "code",
   "execution_count": 137,
   "id": "10312c51-2f2a-48b5-bc28-86450461fa8f",
   "metadata": {},
   "outputs": [
    {
     "data": {
      "text/plain": [
       "array([ 4.        ,  4.30276234,  4.62844095,  4.97877036,  5.3556164 ,\n",
       "        5.76098615,  6.19703857,  6.66609605,  7.17065677,  7.71340798,\n",
       "        8.29724036,  8.92526334,  9.60082176, 10.32751358, 11.10920914,\n",
       "       11.95007169, 12.85457963, 13.82755029, 14.87416568, 16.        ])"
      ]
     },
     "execution_count": 137,
     "metadata": {},
     "output_type": "execute_result"
    }
   ],
   "source": [
    "'''same as linspace diff = ye log nikal k dega'''\n",
    "numpy.logspace(2,4,20 , base =2 )"
   ]
  },
  {
   "cell_type": "code",
   "execution_count": null,
   "id": "9659e059-0306-4d86-8fe7-07f44ad80664",
   "metadata": {},
   "outputs": [],
   "source": []
  },
  {
   "cell_type": "code",
   "execution_count": 147,
   "id": "3dd497a0-5290-493f-8835-b8962204de04",
   "metadata": {},
   "outputs": [
    {
     "data": {
      "text/plain": [
       "' random.randn(row , col)  =  random data generate krna\\n\\nstandard normal distribution jis ka mean = 0 , std = 1 hoga\\n      \\n      \\n        '"
      ]
     },
     "execution_count": 147,
     "metadata": {},
     "output_type": "execute_result"
    }
   ],
   "source": [
    "''' random.randn(row , col)  =  random data generate krna\n",
    "\n",
    "standard normal distribution jis ka mean = 0 , std = 1 hoga\n",
    "      \n",
    "      \n",
    "        '''"
   ]
  },
  {
   "cell_type": "code",
   "execution_count": 148,
   "id": "0551ff57-59b4-4299-8b80-1a9a081eb2c2",
   "metadata": {},
   "outputs": [],
   "source": [
    "'''random data generate'''\n",
    "arr1 =  numpy.random.randn(3,4)"
   ]
  },
  {
   "cell_type": "code",
   "execution_count": 149,
   "id": "e84238b9-2c87-4019-abe8-f56229ea1550",
   "metadata": {},
   "outputs": [],
   "source": [
    "import pandas "
   ]
  },
  {
   "cell_type": "code",
   "execution_count": 146,
   "id": "c485a4d2-79ca-4ff1-be0d-5f52096675d5",
   "metadata": {},
   "outputs": [
    {
     "data": {
      "text/html": [
       "<div>\n",
       "<style scoped>\n",
       "    .dataframe tbody tr th:only-of-type {\n",
       "        vertical-align: middle;\n",
       "    }\n",
       "\n",
       "    .dataframe tbody tr th {\n",
       "        vertical-align: top;\n",
       "    }\n",
       "\n",
       "    .dataframe thead th {\n",
       "        text-align: right;\n",
       "    }\n",
       "</style>\n",
       "<table border=\"1\" class=\"dataframe\">\n",
       "  <thead>\n",
       "    <tr style=\"text-align: right;\">\n",
       "      <th></th>\n",
       "      <th>0</th>\n",
       "      <th>1</th>\n",
       "      <th>2</th>\n",
       "      <th>3</th>\n",
       "    </tr>\n",
       "  </thead>\n",
       "  <tbody>\n",
       "    <tr>\n",
       "      <th>0</th>\n",
       "      <td>1.873835</td>\n",
       "      <td>-1.181662</td>\n",
       "      <td>-0.905330</td>\n",
       "      <td>0.014147</td>\n",
       "    </tr>\n",
       "    <tr>\n",
       "      <th>1</th>\n",
       "      <td>0.982561</td>\n",
       "      <td>0.809462</td>\n",
       "      <td>-0.000131</td>\n",
       "      <td>-0.084266</td>\n",
       "    </tr>\n",
       "    <tr>\n",
       "      <th>2</th>\n",
       "      <td>-0.310180</td>\n",
       "      <td>0.132293</td>\n",
       "      <td>0.868075</td>\n",
       "      <td>-0.680683</td>\n",
       "    </tr>\n",
       "  </tbody>\n",
       "</table>\n",
       "</div>"
      ],
      "text/plain": [
       "          0         1         2         3\n",
       "0  1.873835 -1.181662 -0.905330  0.014147\n",
       "1  0.982561  0.809462 -0.000131 -0.084266\n",
       "2 -0.310180  0.132293  0.868075 -0.680683"
      ]
     },
     "execution_count": 146,
     "metadata": {},
     "output_type": "execute_result"
    }
   ],
   "source": [
    "pandas.DataFrame(arr1)"
   ]
  },
  {
   "cell_type": "code",
   "execution_count": 154,
   "id": "21120593-f25f-447d-b7b3-2ed78f0a5e63",
   "metadata": {},
   "outputs": [
    {
     "data": {
      "text/plain": [
       "'randint(start,end,(row,col))  = random interer generate'"
      ]
     },
     "execution_count": 154,
     "metadata": {},
     "output_type": "execute_result"
    }
   ],
   "source": [
    "'''randint(start,end,(row,col))  = random interer generate'''"
   ]
  },
  {
   "cell_type": "code",
   "execution_count": 157,
   "id": "33ae4d98-581a-4e97-b8ee-bae120a6e5d7",
   "metadata": {},
   "outputs": [],
   "source": [
    "pandas.DataFrame(numpy.random.randint(1,110,(300,400))).to_csv('test.csv')"
   ]
  },
  {
   "cell_type": "code",
   "execution_count": 160,
   "id": "2c90b3c7-e247-405a-8574-11019148c225",
   "metadata": {},
   "outputs": [],
   "source": [
    "ar = numpy.random.rand(3,4)"
   ]
  },
  {
   "cell_type": "code",
   "execution_count": 161,
   "id": "6df8dc7a-395a-4efb-b182-aef4de9139e9",
   "metadata": {},
   "outputs": [
    {
     "data": {
      "text/plain": [
       "array([[0.13746016, 0.44875745, 0.65229241, 0.64298874],\n",
       "       [0.48526759, 0.67427074, 0.58898729, 0.24214529],\n",
       "       [0.2206136 , 0.24542818, 0.58242616, 0.38922254]])"
      ]
     },
     "execution_count": 161,
     "metadata": {},
     "output_type": "execute_result"
    }
   ],
   "source": [
    "ar"
   ]
  },
  {
   "cell_type": "code",
   "execution_count": 162,
   "id": "837cc0da-2516-4f28-b759-7b82bb3994bc",
   "metadata": {},
   "outputs": [
    {
     "data": {
      "text/plain": [
       "'reshape(row,col)  = array ka shape change krna'"
      ]
     },
     "execution_count": 162,
     "metadata": {},
     "output_type": "execute_result"
    }
   ],
   "source": [
    "'''reshape(row,col)  = array ka shape change krna'''"
   ]
  },
  {
   "cell_type": "code",
   "execution_count": 169,
   "id": "809bb847-f66d-4601-863d-4d3aa2926cb6",
   "metadata": {},
   "outputs": [
    {
     "data": {
      "text/plain": [
       "array([[0.13746016, 0.44875745, 0.65229241],\n",
       "       [0.64298874, 0.48526759, 0.67427074],\n",
       "       [0.58898729, 0.24214529, 0.2206136 ],\n",
       "       [0.24542818, 0.58242616, 0.38922254]])"
      ]
     },
     "execution_count": 169,
     "metadata": {},
     "output_type": "execute_result"
    }
   ],
   "source": [
    "ar.reshape(4,3)"
   ]
  },
  {
   "cell_type": "code",
   "execution_count": 173,
   "id": "00e044a8-df1b-44b3-89d4-84275f97ffd2",
   "metadata": {},
   "outputs": [],
   "source": [
    "ar1 = ar.reshape(4,3)"
   ]
  },
  {
   "cell_type": "code",
   "execution_count": 174,
   "id": "1308e150-b5e5-4baa-810c-12083cfce96f",
   "metadata": {},
   "outputs": [],
   "source": [
    "# indexing and slicing "
   ]
  },
  {
   "cell_type": "code",
   "execution_count": 176,
   "id": "debe084f-457a-4729-b4dd-72f0c65222f8",
   "metadata": {},
   "outputs": [
    {
     "data": {
      "text/plain": [
       "0.22061360263945673"
      ]
     },
     "execution_count": 176,
     "metadata": {},
     "output_type": "execute_result"
    }
   ],
   "source": [
    "ar1[2][2]"
   ]
  },
  {
   "cell_type": "code",
   "execution_count": 178,
   "id": "d3f96f6b-312b-48fb-83a7-1b2d3a88dcd3",
   "metadata": {},
   "outputs": [
    {
     "data": {
      "text/plain": [
       "array([[0.64298874, 0.48526759, 0.67427074],\n",
       "       [0.58898729, 0.24214529, 0.2206136 ],\n",
       "       [0.24542818, 0.58242616, 0.38922254]])"
      ]
     },
     "execution_count": 178,
     "metadata": {},
     "output_type": "execute_result"
    }
   ],
   "source": [
    "ar1[1:4]"
   ]
  },
  {
   "cell_type": "code",
   "execution_count": 181,
   "id": "5a6222cc-167a-41af-94c4-17eaa5d2b580",
   "metadata": {},
   "outputs": [
    {
     "data": {
      "text/plain": [
       "array([0.67427074, 0.2206136 , 0.38922254])"
      ]
     },
     "execution_count": 181,
     "metadata": {},
     "output_type": "execute_result"
    }
   ],
   "source": [
    "ar1[1:4,2]"
   ]
  },
  {
   "cell_type": "code",
   "execution_count": 182,
   "id": "e34a713b-0843-4c04-b729-db3eb4a633a7",
   "metadata": {},
   "outputs": [
    {
     "data": {
      "text/plain": [
       "array([[0.13746016, 0.44875745, 0.65229241],\n",
       "       [0.64298874, 0.48526759, 0.67427074],\n",
       "       [0.58898729, 0.24214529, 0.2206136 ],\n",
       "       [0.24542818, 0.58242616, 0.38922254]])"
      ]
     },
     "execution_count": 182,
     "metadata": {},
     "output_type": "execute_result"
    }
   ],
   "source": [
    "ar1"
   ]
  },
  {
   "cell_type": "code",
   "execution_count": 185,
   "id": "8e0bfd16-5320-4e57-bcf5-b0c891904e9d",
   "metadata": {},
   "outputs": [
    {
     "data": {
      "text/plain": [
       "array([0.48526759, 0.24214529])"
      ]
     },
     "execution_count": 185,
     "metadata": {},
     "output_type": "execute_result"
    }
   ],
   "source": [
    "ar1[1:3,1]"
   ]
  },
  {
   "cell_type": "code",
   "execution_count": null,
   "id": "1125e8b0-a37d-4ae2-bbb0-754e3e3af432",
   "metadata": {},
   "outputs": [],
   "source": []
  },
  {
   "cell_type": "code",
   "execution_count": 186,
   "id": "d96df77f-64b6-40cc-938c-98f8ff209049",
   "metadata": {},
   "outputs": [
    {
     "data": {
      "text/plain": [
       "array([[ 1, 63, 41, 40, 87],\n",
       "       [23, 46, 37, 55, 46],\n",
       "       [91,  5, 99, 73, 38],\n",
       "       [23, 12, 11, 19,  7],\n",
       "       [20, 70, 11, 27, 91]])"
      ]
     },
     "execution_count": 186,
     "metadata": {},
     "output_type": "execute_result"
    }
   ],
   "source": [
    "numpy.random.randint(1,100,(5,5))"
   ]
  },
  {
   "cell_type": "code",
   "execution_count": 197,
   "id": "103912de-c674-4223-baeb-bcefca8f16a6",
   "metadata": {},
   "outputs": [],
   "source": [
    "arr = numpy.random.randint(1,100,(5,5))"
   ]
  },
  {
   "cell_type": "code",
   "execution_count": 200,
   "id": "4cdb665d-1fbf-4b3d-bccd-eed343e43fbf",
   "metadata": {},
   "outputs": [
    {
     "data": {
      "text/plain": [
       "array([58, 94, 53, 66, 87, 65, 55, 52, 80, 84, 77])"
      ]
     },
     "execution_count": 200,
     "metadata": {},
     "output_type": "execute_result"
    }
   ],
   "source": [
    "'''sirf vahi data nikal k do jo 50 > ho'''\n",
    "arr[arr > 50]"
   ]
  },
  {
   "cell_type": "code",
   "execution_count": 201,
   "id": "ecb8a033-eb16-402f-ac18-5106294d0013",
   "metadata": {},
   "outputs": [
    {
     "data": {
      "text/plain": [
       "array([94])"
      ]
     },
     "execution_count": 201,
     "metadata": {},
     "output_type": "execute_result"
    }
   ],
   "source": [
    "arr[arr > 90]"
   ]
  },
  {
   "cell_type": "code",
   "execution_count": 202,
   "id": "bb64673e-8330-42ab-bfc1-98f29a73756b",
   "metadata": {},
   "outputs": [
    {
     "data": {
      "text/plain": [
       "array([[12, 16, 13, 22, 58],\n",
       "       [94, 53, 38, 46, 40],\n",
       "       [37, 16, 15, 66, 87],\n",
       "       [65, 55, 52, 20, 80],\n",
       "       [ 5, 34, 14, 84, 77]])"
      ]
     },
     "execution_count": 202,
     "metadata": {},
     "output_type": "execute_result"
    }
   ],
   "source": [
    "arr"
   ]
  },
  {
   "cell_type": "code",
   "execution_count": 203,
   "id": "08356163-b156-40f9-982c-f5365bf91cd2",
   "metadata": {},
   "outputs": [
    {
     "data": {
      "text/plain": [
       "array([[37, 16, 15, 66, 87],\n",
       "       [65, 55, 52, 20, 80]])"
      ]
     },
     "execution_count": 203,
     "metadata": {},
     "output_type": "execute_result"
    }
   ],
   "source": [
    "arr[2:4]"
   ]
  },
  {
   "cell_type": "code",
   "execution_count": 209,
   "id": "8942542a-ad36-49a9-9d0e-055b06c6ff05",
   "metadata": {},
   "outputs": [
    {
     "data": {
      "text/plain": [
       "array([[16, 15],\n",
       "       [55, 52]])"
      ]
     },
     "execution_count": 209,
     "metadata": {},
     "output_type": "execute_result"
    }
   ],
   "source": [
    "arr[2:4,[1,2]]    # slicing and indexing"
   ]
  },
  {
   "cell_type": "code",
   "execution_count": 210,
   "id": "70b45b7c-414c-4762-bf2d-c6a10db89858",
   "metadata": {},
   "outputs": [
    {
     "data": {
      "text/plain": [
       "array([[13, 22],\n",
       "       [38, 46]])"
      ]
     },
     "execution_count": 210,
     "metadata": {},
     "output_type": "execute_result"
    }
   ],
   "source": [
    "arr[0:2,[2,3]]"
   ]
  },
  {
   "cell_type": "code",
   "execution_count": null,
   "id": "c53395aa-7bfa-4778-9d76-580407c2b090",
   "metadata": {},
   "outputs": [],
   "source": []
  },
  {
   "cell_type": "code",
   "execution_count": 214,
   "id": "1c7e4854-457e-4a3d-b820-6b4ba74a5047",
   "metadata": {},
   "outputs": [],
   "source": [
    "arr[0][0] = 5000   # manipulate"
   ]
  },
  {
   "cell_type": "code",
   "execution_count": 215,
   "id": "94279e54-ab7f-47d6-a5cf-3da843c74e7e",
   "metadata": {},
   "outputs": [
    {
     "data": {
      "text/plain": [
       "array([[5000,   16,   13,   22,   58],\n",
       "       [  94,   53,   38,   46,   40],\n",
       "       [  37,   16,   15,   66,   87],\n",
       "       [  65,   55,   52,   20,   80],\n",
       "       [   5,   34,   14,   84,   77]])"
      ]
     },
     "execution_count": 215,
     "metadata": {},
     "output_type": "execute_result"
    }
   ],
   "source": [
    "arr"
   ]
  },
  {
   "cell_type": "code",
   "execution_count": null,
   "id": "33aea5e6-900a-4399-bf9c-46dafac9039d",
   "metadata": {},
   "outputs": [],
   "source": []
  },
  {
   "cell_type": "code",
   "execution_count": 216,
   "id": "b9d0b653-7f2a-4a4b-b4b0-1afaf7557443",
   "metadata": {},
   "outputs": [],
   "source": [
    "arr1 = numpy.random.randint(1,3,[3,3])"
   ]
  },
  {
   "cell_type": "code",
   "execution_count": 217,
   "id": "cd2187e5-ee54-4e8c-b5b2-e1867ac377e4",
   "metadata": {},
   "outputs": [],
   "source": [
    "arr2 = numpy.random.randint(1,2,[3,3])"
   ]
  },
  {
   "cell_type": "code",
   "execution_count": 218,
   "id": "6bf03da1-82b6-4cde-a66f-cc5a7c518ff5",
   "metadata": {},
   "outputs": [
    {
     "data": {
      "text/plain": [
       "array([[2, 2, 1],\n",
       "       [2, 2, 2],\n",
       "       [1, 2, 1]])"
      ]
     },
     "execution_count": 218,
     "metadata": {},
     "output_type": "execute_result"
    }
   ],
   "source": [
    "arr1"
   ]
  },
  {
   "cell_type": "code",
   "execution_count": 219,
   "id": "2b24d914-11a7-4e2e-9547-3ac7455cb361",
   "metadata": {},
   "outputs": [
    {
     "data": {
      "text/plain": [
       "array([[1, 1, 1],\n",
       "       [1, 1, 1],\n",
       "       [1, 1, 1]])"
      ]
     },
     "execution_count": 219,
     "metadata": {},
     "output_type": "execute_result"
    }
   ],
   "source": [
    "arr2"
   ]
  },
  {
   "cell_type": "code",
   "execution_count": 222,
   "id": "d056566c-2780-4706-9540-ef2b9d0df574",
   "metadata": {},
   "outputs": [
    {
     "data": {
      "text/plain": [
       "array([[3, 3, 2],\n",
       "       [3, 3, 3],\n",
       "       [2, 3, 2]])"
      ]
     },
     "execution_count": 222,
     "metadata": {},
     "output_type": "execute_result"
    }
   ],
   "source": [
    "arr1 + arr2    # sum"
   ]
  },
  {
   "cell_type": "code",
   "execution_count": 231,
   "id": "f86372fb-885c-48ea-9b1b-1b184f3bceeb",
   "metadata": {},
   "outputs": [
    {
     "data": {
      "text/plain": [
       "array([[1, 1, 0],\n",
       "       [1, 1, 1],\n",
       "       [0, 1, 0]])"
      ]
     },
     "execution_count": 231,
     "metadata": {},
     "output_type": "execute_result"
    }
   ],
   "source": [
    "arr1 - arr2    # simple multiplication"
   ]
  },
  {
   "cell_type": "code",
   "execution_count": 232,
   "id": "6d7fd42d-4776-4147-850c-c63ef54a67ca",
   "metadata": {},
   "outputs": [
    {
     "data": {
      "text/plain": [
       "array([[2., 2., 1.],\n",
       "       [2., 2., 2.],\n",
       "       [1., 2., 1.]])"
      ]
     },
     "execution_count": 232,
     "metadata": {},
     "output_type": "execute_result"
    }
   ],
   "source": [
    "arr1 / arr2"
   ]
  },
  {
   "cell_type": "code",
   "execution_count": 233,
   "id": "5df0ac4c-9cc9-4bb4-acec-c1239d340de4",
   "metadata": {},
   "outputs": [
    {
     "data": {
      "text/plain": [
       "array([[2, 2, 1],\n",
       "       [2, 2, 2],\n",
       "       [1, 2, 1]])"
      ]
     },
     "execution_count": 233,
     "metadata": {},
     "output_type": "execute_result"
    }
   ],
   "source": [
    "arr1 * arr2"
   ]
  },
  {
   "cell_type": "code",
   "execution_count": 234,
   "id": "04fdbd60-5ae7-4e27-873a-458fad7b0c7d",
   "metadata": {},
   "outputs": [
    {
     "data": {
      "text/plain": [
       "array([[5, 5, 5],\n",
       "       [6, 6, 6],\n",
       "       [4, 4, 4]])"
      ]
     },
     "execution_count": 234,
     "metadata": {},
     "output_type": "execute_result"
    }
   ],
   "source": [
    "# matrix multiplication\n",
    "arr1@arr2"
   ]
  },
  {
   "cell_type": "code",
   "execution_count": 236,
   "id": "d8792ea1-cdcf-4c1b-a710-63a3f353dba8",
   "metadata": {},
   "outputs": [],
   "source": [
    "# arr1 / 0 = inf aayega"
   ]
  },
  {
   "cell_type": "code",
   "execution_count": 237,
   "id": "0c31472d-075b-4663-bf33-1c2b505c99ee",
   "metadata": {},
   "outputs": [
    {
     "name": "stderr",
     "output_type": "stream",
     "text": [
      "/tmp/ipykernel_84/824215542.py:1: RuntimeWarning: divide by zero encountered in divide\n",
      "  arr1 / 0\n"
     ]
    },
    {
     "data": {
      "text/plain": [
       "array([[inf, inf, inf],\n",
       "       [inf, inf, inf],\n",
       "       [inf, inf, inf]])"
      ]
     },
     "execution_count": 237,
     "metadata": {},
     "output_type": "execute_result"
    }
   ],
   "source": [
    "arr1 / 0"
   ]
  },
  {
   "cell_type": "code",
   "execution_count": 239,
   "id": "2d7f41c6-ddc7-4c7e-8e1e-aaee4061e5a8",
   "metadata": {},
   "outputs": [
    {
     "data": {
      "text/plain": [
       "array([[102, 102, 101],\n",
       "       [102, 102, 102],\n",
       "       [101, 102, 101]])"
      ]
     },
     "execution_count": 239,
     "metadata": {},
     "output_type": "execute_result"
    }
   ],
   "source": [
    "arr1 + 100"
   ]
  },
  {
   "cell_type": "code",
   "execution_count": 240,
   "id": "a8a16290-0244-40b8-b1ba-f1fcdc5d9774",
   "metadata": {},
   "outputs": [
    {
     "data": {
      "text/plain": [
       "array([[4, 4, 1],\n",
       "       [4, 4, 4],\n",
       "       [1, 4, 1]])"
      ]
     },
     "execution_count": 240,
     "metadata": {},
     "output_type": "execute_result"
    }
   ],
   "source": [
    "arr1**2"
   ]
  },
  {
   "cell_type": "code",
   "execution_count": null,
   "id": "6377c299-b3be-479f-89ee-97af1af15361",
   "metadata": {},
   "outputs": [],
   "source": []
  },
  {
   "cell_type": "code",
   "execution_count": 264,
   "id": "fe885a6e-84da-49c9-b050-dcd307fbebb2",
   "metadata": {},
   "outputs": [
    {
     "data": {
      "text/plain": [
       "'liner array(row) ko zero array mai row by row add krta hai'"
      ]
     },
     "execution_count": 264,
     "metadata": {},
     "output_type": "execute_result"
    }
   ],
   "source": [
    "# Broadcasting\n",
    "\n",
    "'''liner array(row) ko zero array mai row by row add krta hai'''"
   ]
  },
  {
   "cell_type": "code",
   "execution_count": 249,
   "id": "32022e73-6af6-4c8e-a780-8e6e32849515",
   "metadata": {},
   "outputs": [
    {
     "data": {
      "text/plain": [
       "array([[0., 0., 0., 0.],\n",
       "       [0., 0., 0., 0.],\n",
       "       [0., 0., 0., 0.],\n",
       "       [0., 0., 0., 0.]])"
      ]
     },
     "execution_count": 249,
     "metadata": {},
     "output_type": "execute_result"
    }
   ],
   "source": [
    " numpy.zeros((4,4))"
   ]
  },
  {
   "cell_type": "code",
   "execution_count": 250,
   "id": "30a24e84-cca4-4705-8951-4bfcebad52db",
   "metadata": {},
   "outputs": [
    {
     "data": {
      "text/plain": [
       "array([1, 2, 3, 4])"
      ]
     },
     "execution_count": 250,
     "metadata": {},
     "output_type": "execute_result"
    }
   ],
   "source": [
    " numpy.array([1,2,3,4])"
   ]
  },
  {
   "cell_type": "code",
   "execution_count": 251,
   "id": "b6661d65-987b-407b-b241-25958492ccb7",
   "metadata": {},
   "outputs": [],
   "source": [
    "a1 = numpy.zeros((4,4))"
   ]
  },
  {
   "cell_type": "code",
   "execution_count": 255,
   "id": "4fdaf1e4-eba8-44ea-aff4-9ed55d655961",
   "metadata": {},
   "outputs": [],
   "source": [
    "row = numpy.array([1,2,3,4])"
   ]
  },
  {
   "cell_type": "code",
   "execution_count": 256,
   "id": "f0ba0e61-6776-434e-b14c-c36bf4d95535",
   "metadata": {},
   "outputs": [
    {
     "data": {
      "text/plain": [
       "array([[1., 2., 3., 4.],\n",
       "       [1., 2., 3., 4.],\n",
       "       [1., 2., 3., 4.],\n",
       "       [1., 2., 3., 4.]])"
      ]
     },
     "execution_count": 256,
     "metadata": {},
     "output_type": "execute_result"
    }
   ],
   "source": [
    "a1 + row"
   ]
  },
  {
   "cell_type": "code",
   "execution_count": null,
   "id": "e3c75201-f117-47aa-abd9-2af04557e142",
   "metadata": {},
   "outputs": [],
   "source": []
  },
  {
   "cell_type": "code",
   "execution_count": 265,
   "id": "6a9f79a7-ab0b-492d-8633-ea97c9be6618",
   "metadata": {},
   "outputs": [
    {
     "data": {
      "text/plain": [
       "'column by column add krna hai\\n\\nliner ki jagh(row ki jagh ) 2d arr bnao and .T (transpose krdo ) then add'"
      ]
     },
     "execution_count": 265,
     "metadata": {},
     "output_type": "execute_result"
    }
   ],
   "source": [
    "'''column by column add krna hai\n",
    "\n",
    "liner ki jagh(row ki jagh ) 2d arr bnao and .T (transpose krdo ) then add'''"
   ]
  },
  {
   "cell_type": "code",
   "execution_count": 257,
   "id": "fb91571d-6386-4ab5-a7ee-80851c14fe03",
   "metadata": {},
   "outputs": [
    {
     "data": {
      "text/plain": [
       "array([1, 2, 3, 4])"
      ]
     },
     "execution_count": 257,
     "metadata": {},
     "output_type": "execute_result"
    }
   ],
   "source": [
    "row.T"
   ]
  },
  {
   "cell_type": "code",
   "execution_count": 258,
   "id": "f470820c-a08d-446a-b696-ea9f1dfc9cf5",
   "metadata": {},
   "outputs": [],
   "source": [
    "col = numpy.array([[1,2,3,4]])    # 2d array"
   ]
  },
  {
   "cell_type": "code",
   "execution_count": 260,
   "id": "9ee80b0e-5ec3-4253-aede-245e76a15c53",
   "metadata": {},
   "outputs": [
    {
     "data": {
      "text/plain": [
       "array([[1],\n",
       "       [2],\n",
       "       [3],\n",
       "       [4]])"
      ]
     },
     "execution_count": 260,
     "metadata": {},
     "output_type": "execute_result"
    }
   ],
   "source": [
    "col.T                             # transpose"
   ]
  },
  {
   "cell_type": "code",
   "execution_count": 266,
   "id": "1e92437a-94b2-4c5c-9c22-addbf5c8db4a",
   "metadata": {},
   "outputs": [
    {
     "data": {
      "text/plain": [
       "array([[1., 1., 1., 1.],\n",
       "       [2., 2., 2., 2.],\n",
       "       [3., 3., 3., 3.],\n",
       "       [4., 4., 4., 4.]])"
      ]
     },
     "execution_count": 266,
     "metadata": {},
     "output_type": "execute_result"
    }
   ],
   "source": [
    "a1 + col.T                       # transpose ko add"
   ]
  },
  {
   "cell_type": "code",
   "execution_count": 268,
   "id": "ce037c9c-7e50-43b4-bc6e-a9fa631e0730",
   "metadata": {},
   "outputs": [],
   "source": [
    "arr1 = numpy.random.randint(1,4,(3,4))"
   ]
  },
  {
   "cell_type": "code",
   "execution_count": 269,
   "id": "00b00c3e-ef9e-4588-8dec-44675b7622f1",
   "metadata": {},
   "outputs": [
    {
     "data": {
      "text/plain": [
       "array([[1.41421356, 1.73205081, 1.73205081, 1.        ],\n",
       "       [1.        , 1.73205081, 1.        , 1.        ],\n",
       "       [1.41421356, 1.        , 1.41421356, 1.73205081]])"
      ]
     },
     "execution_count": 269,
     "metadata": {},
     "output_type": "execute_result"
    }
   ],
   "source": [
    "#squar nikalna\n",
    "numpy.sqrt(arr1)"
   ]
  },
  {
   "cell_type": "code",
   "execution_count": 271,
   "id": "9923ebeb-3fa3-44ae-b995-9e60e09349ef",
   "metadata": {},
   "outputs": [
    {
     "data": {
      "text/plain": [
       "array([[ 7.3890561 , 20.08553692, 20.08553692,  2.71828183],\n",
       "       [ 2.71828183, 20.08553692,  2.71828183,  2.71828183],\n",
       "       [ 7.3890561 ,  2.71828183,  7.3890561 , 20.08553692]])"
      ]
     },
     "execution_count": 271,
     "metadata": {},
     "output_type": "execute_result"
    }
   ],
   "source": [
    "#exponant nikalo\n",
    "numpy.exp(arr1)"
   ]
  },
  {
   "cell_type": "code",
   "execution_count": 272,
   "id": "280f5263-2452-485c-8204-ea19b0f2272b",
   "metadata": {},
   "outputs": [
    {
     "data": {
      "text/plain": [
       "array([[0.30103   , 0.47712125, 0.47712125, 0.        ],\n",
       "       [0.        , 0.47712125, 0.        , 0.        ],\n",
       "       [0.30103   , 0.        , 0.30103   , 0.47712125]])"
      ]
     },
     "execution_count": 272,
     "metadata": {},
     "output_type": "execute_result"
    }
   ],
   "source": [
    "numpy.log10(arr1)"
   ]
  },
  {
   "cell_type": "code",
   "execution_count": null,
   "id": "c457f405-f29d-480e-a93f-62e39f1b4196",
   "metadata": {},
   "outputs": [],
   "source": []
  }
 ],
 "metadata": {
  "kernelspec": {
   "display_name": "Python 3 (ipykernel)",
   "language": "python",
   "name": "python3"
  },
  "language_info": {
   "codemirror_mode": {
    "name": "ipython",
    "version": 3
   },
   "file_extension": ".py",
   "mimetype": "text/x-python",
   "name": "python",
   "nbconvert_exporter": "python",
   "pygments_lexer": "ipython3",
   "version": "3.10.8"
  }
 },
 "nbformat": 4,
 "nbformat_minor": 5
}
