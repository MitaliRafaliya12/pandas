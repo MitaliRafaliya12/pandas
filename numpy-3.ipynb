{
 "cells": [
  {
   "cell_type": "code",
   "execution_count": null,
   "id": "a4cdd52e-b85e-47ae-9f00-abe34f21d3d8",
   "metadata": {},
   "outputs": [],
   "source": []
  },
  {
   "cell_type": "code",
   "execution_count": 5,
   "id": "47aeb919-4fb0-4775-ade0-e940ae5790c7",
   "metadata": {},
   "outputs": [],
   "source": [
    "import numpy as np"
   ]
  },
  {
   "cell_type": "code",
   "execution_count": 8,
   "id": "44bd1a35-3660-40ca-b036-e327bae42fe4",
   "metadata": {},
   "outputs": [],
   "source": [
    "arr = np.array([4,3,4,5,6,72,3,3,455,5,6,6])"
   ]
  },
  {
   "cell_type": "code",
   "execution_count": 10,
   "id": "c34ad808-8864-403e-ba37-8abd3a82f5c4",
   "metadata": {},
   "outputs": [
    {
     "data": {
      "text/plain": [
       "array([  4,   3,   4,   5,   6,  72,   3,   3, 455,   5,   6,   6])"
      ]
     },
     "execution_count": 10,
     "metadata": {},
     "output_type": "execute_result"
    }
   ],
   "source": [
    "arr"
   ]
  },
  {
   "cell_type": "code",
   "execution_count": 12,
   "id": "bf0f124f-b96b-4fa5-99c6-174c58c17e15",
   "metadata": {},
   "outputs": [
    {
     "data": {
      "text/plain": [
       "array([  3,   3,   3,   4,   4,   5,   5,   6,   6,   6,  72, 455])"
      ]
     },
     "execution_count": 12,
     "metadata": {},
     "output_type": "execute_result"
    }
   ],
   "source": [
    "np.sort(arr)"
   ]
  },
  {
   "cell_type": "code",
   "execution_count": 15,
   "id": "00bb28d0-0d99-4094-8f16-a54ec7488d43",
   "metadata": {},
   "outputs": [
    {
     "data": {
      "text/plain": [
       "12"
      ]
     },
     "execution_count": 15,
     "metadata": {},
     "output_type": "execute_result"
    }
   ],
   "source": [
    "# searchsorted =  jo b no. data hai wo kis position pe jayega\n",
    "np.searchsorted(arr , 94)"
   ]
  },
  {
   "cell_type": "code",
   "execution_count": 16,
   "id": "fe2142a7-8073-4334-8698-5dca93d7c4e4",
   "metadata": {},
   "outputs": [],
   "source": [
    "arr1 = np.array([0,345,454,0,0,0,0,0,0])"
   ]
  },
  {
   "cell_type": "code",
   "execution_count": 18,
   "id": "9dbc7a88-b626-41fa-b5dd-8107c974251f",
   "metadata": {},
   "outputs": [
    {
     "data": {
      "text/plain": [
       "2"
      ]
     },
     "execution_count": 18,
     "metadata": {},
     "output_type": "execute_result"
    }
   ],
   "source": [
    "# count non-zero elementes\n",
    "np.count_nonzero(arr1)"
   ]
  },
  {
   "cell_type": "code",
   "execution_count": 19,
   "id": "cf212061-d722-4381-b5f6-ee8fefe0f8db",
   "metadata": {},
   "outputs": [
    {
     "data": {
      "text/plain": [
       "array([  4,   3,   4,   5,   6,  72,   3,   3, 455,   5,   6,   6])"
      ]
     },
     "execution_count": 19,
     "metadata": {},
     "output_type": "execute_result"
    }
   ],
   "source": [
    "arr"
   ]
  },
  {
   "cell_type": "code",
   "execution_count": 72,
   "id": "29ef35d1-2a1f-4b10-96c7-07b40904b82a",
   "metadata": {},
   "outputs": [],
   "source": [
    "# > jo b data 6 se jyada hai uska index nikal kr dega"
   ]
  },
  {
   "cell_type": "code",
   "execution_count": 73,
   "id": "0e8dd6bd-6c1f-4835-be4c-fca95ca9edb9",
   "metadata": {},
   "outputs": [
    {
     "data": {
      "text/plain": [
       "(array([0, 5, 8]),)"
      ]
     },
     "execution_count": 73,
     "metadata": {},
     "output_type": "execute_result"
    }
   ],
   "source": [
    "np.where(arr > 6)"
   ]
  },
  {
   "cell_type": "code",
   "execution_count": null,
   "id": "37854d29-1f6a-4c26-b6cf-a237dd84ec96",
   "metadata": {},
   "outputs": [],
   "source": []
  },
  {
   "cell_type": "code",
   "execution_count": 24,
   "id": "323d93ff-5962-4485-98ba-055dca6bcf77",
   "metadata": {},
   "outputs": [
    {
     "data": {
      "text/plain": [
       "'extract()  = condition ko satisfy krne vale data ko nikalta hai'"
      ]
     },
     "execution_count": 24,
     "metadata": {},
     "output_type": "execute_result"
    }
   ],
   "source": [
    "'''extract()  = condition ko satisfy krne vale data ko nikalta hai'''"
   ]
  },
  {
   "cell_type": "code",
   "execution_count": 25,
   "id": "ae3b9a36-0f63-409f-8c31-798ccdadaeb5",
   "metadata": {},
   "outputs": [
    {
     "data": {
      "text/plain": [
       "array([  4,   4,   5,   6,  72, 455,   5,   6,   6])"
      ]
     },
     "execution_count": 25,
     "metadata": {},
     "output_type": "execute_result"
    }
   ],
   "source": [
    "np.extract(arr >3 , arr)"
   ]
  },
  {
   "cell_type": "code",
   "execution_count": null,
   "id": "627200d9-9590-4728-9ade-b1467242f36c",
   "metadata": {},
   "outputs": [],
   "source": []
  },
  {
   "cell_type": "code",
   "execution_count": 27,
   "id": "04b19ea9-06d9-4829-9cf1-e1f2114b5877",
   "metadata": {},
   "outputs": [
    {
     "data": {
      "text/plain": [
       "'ele ka byte nikalta hai'"
      ]
     },
     "execution_count": 27,
     "metadata": {},
     "output_type": "execute_result"
    }
   ],
   "source": [
    "# numpy - byte swapping\n",
    "'''ele ka byte nikalta hai'''"
   ]
  },
  {
   "cell_type": "code",
   "execution_count": 29,
   "id": "7e807f0a-e1fd-422a-990b-3d07216032da",
   "metadata": {},
   "outputs": [
    {
     "data": {
      "text/plain": [
       "array([  288230376151711744,   216172782113783808,   288230376151711744,\n",
       "         360287970189639680,   432345564227567616,  5188146770730811392,\n",
       "         216172782113783808,   216172782113783808, -4107001385185181696,\n",
       "         360287970189639680,   432345564227567616,   432345564227567616])"
      ]
     },
     "execution_count": 29,
     "metadata": {},
     "output_type": "execute_result"
    }
   ],
   "source": [
    "arr.byteswap()"
   ]
  },
  {
   "cell_type": "code",
   "execution_count": null,
   "id": "f4465976-03ae-4841-aad5-02918880b3fd",
   "metadata": {},
   "outputs": [],
   "source": []
  },
  {
   "cell_type": "code",
   "execution_count": 45,
   "id": "fe4914b9-07e7-4233-b9c5-6d17f7538504",
   "metadata": {},
   "outputs": [
    {
     "data": {
      "text/plain": [
       "' view()  == svelo copy\\n    copy() == deep copy'"
      ]
     },
     "execution_count": 45,
     "metadata": {},
     "output_type": "execute_result"
    }
   ],
   "source": [
    "# Numpy - copies & views\n",
    "''' view()  == svelo copy\n",
    "    copy() == deep copy'''"
   ]
  },
  {
   "cell_type": "code",
   "execution_count": 31,
   "id": "ce272d85-aed2-4920-8695-271a9e685f5e",
   "metadata": {},
   "outputs": [
    {
     "data": {
      "text/plain": [
       "array([  4,   3,   4,   5,   6,  72,   3,   3, 455,   5,   6,   6])"
      ]
     },
     "execution_count": 31,
     "metadata": {},
     "output_type": "execute_result"
    }
   ],
   "source": [
    "arr "
   ]
  },
  {
   "cell_type": "code",
   "execution_count": 44,
   "id": "5e951826-3d2c-43cf-8122-c351be16f0a5",
   "metadata": {},
   "outputs": [],
   "source": [
    "a = np.copy(arr)     # deep copy"
   ]
  },
  {
   "cell_type": "code",
   "execution_count": 33,
   "id": "a0568b73-e165-4507-9395-e2d899532965",
   "metadata": {},
   "outputs": [],
   "source": [
    "a[0] = 20"
   ]
  },
  {
   "cell_type": "code",
   "execution_count": 34,
   "id": "0596a74f-81c9-4fac-be01-649aff8b4440",
   "metadata": {},
   "outputs": [
    {
     "data": {
      "text/plain": [
       "array([ 20,   3,   4,   5,   6,  72,   3,   3, 455,   5,   6,   6])"
      ]
     },
     "execution_count": 34,
     "metadata": {},
     "output_type": "execute_result"
    }
   ],
   "source": [
    "a"
   ]
  },
  {
   "cell_type": "code",
   "execution_count": 35,
   "id": "99d761de-7ada-4646-a8c5-b27da611147d",
   "metadata": {},
   "outputs": [
    {
     "data": {
      "text/plain": [
       "array([  4,   3,   4,   5,   6,  72,   3,   3, 455,   5,   6,   6])"
      ]
     },
     "execution_count": 35,
     "metadata": {},
     "output_type": "execute_result"
    }
   ],
   "source": [
    "arr"
   ]
  },
  {
   "cell_type": "code",
   "execution_count": null,
   "id": "2ddb3e52-1fef-48ac-84e7-6ff39c9ab0c2",
   "metadata": {},
   "outputs": [],
   "source": []
  },
  {
   "cell_type": "code",
   "execution_count": 42,
   "id": "05282c59-eaaa-4fd2-a500-0cb81d110a4c",
   "metadata": {},
   "outputs": [],
   "source": [
    "b = arr.view()       # svelo copy "
   ]
  },
  {
   "cell_type": "code",
   "execution_count": 37,
   "id": "8ce9d347-0bd7-4dd0-abc1-1a1199d8014c",
   "metadata": {},
   "outputs": [
    {
     "data": {
      "text/plain": [
       "array([  4,   3,   4,   5,   6,  72,   3,   3, 455,   5,   6,   6])"
      ]
     },
     "execution_count": 37,
     "metadata": {},
     "output_type": "execute_result"
    }
   ],
   "source": [
    "b"
   ]
  },
  {
   "cell_type": "code",
   "execution_count": 38,
   "id": "69eca1fe-602b-4c32-953f-7c2620d042ad",
   "metadata": {},
   "outputs": [],
   "source": [
    "b[0] = 67"
   ]
  },
  {
   "cell_type": "code",
   "execution_count": 39,
   "id": "bf8e513a-7401-4f27-af1c-08e002b7e106",
   "metadata": {},
   "outputs": [
    {
     "data": {
      "text/plain": [
       "array([ 67,   3,   4,   5,   6,  72,   3,   3, 455,   5,   6,   6])"
      ]
     },
     "execution_count": 39,
     "metadata": {},
     "output_type": "execute_result"
    }
   ],
   "source": [
    "b"
   ]
  },
  {
   "cell_type": "code",
   "execution_count": 40,
   "id": "ae010b7b-ed3c-4d75-85b8-91e20acbe8c7",
   "metadata": {},
   "outputs": [
    {
     "data": {
      "text/plain": [
       "array([ 67,   3,   4,   5,   6,  72,   3,   3, 455,   5,   6,   6])"
      ]
     },
     "execution_count": 40,
     "metadata": {},
     "output_type": "execute_result"
    }
   ],
   "source": [
    "arr"
   ]
  },
  {
   "cell_type": "code",
   "execution_count": 41,
   "id": "9f10a8f9-8f12-4227-ae16-9eeebcac6178",
   "metadata": {},
   "outputs": [],
   "source": []
  },
  {
   "cell_type": "code",
   "execution_count": 46,
   "id": "1a1da7e3-7f8d-483d-9a19-093d50a02564",
   "metadata": {},
   "outputs": [],
   "source": [
    "# Numpy - matrix library"
   ]
  },
  {
   "cell_type": "code",
   "execution_count": 56,
   "id": "4a11a895-3044-495e-a61b-f6912011db78",
   "metadata": {},
   "outputs": [],
   "source": [
    "import numpy.matlib as nm"
   ]
  },
  {
   "cell_type": "code",
   "execution_count": 58,
   "id": "f24f91c0-c93b-4184-b254-e39a7b6d313a",
   "metadata": {},
   "outputs": [
    {
     "data": {
      "text/plain": [
       "matrix([[0., 0., 0., 0., 0.]])"
      ]
     },
     "execution_count": 58,
     "metadata": {},
     "output_type": "execute_result"
    }
   ],
   "source": [
    "nm.zeros(5)"
   ]
  },
  {
   "cell_type": "code",
   "execution_count": 59,
   "id": "f23c887c-f819-4457-b291-eae256333e30",
   "metadata": {},
   "outputs": [
    {
     "data": {
      "text/plain": [
       "matrix([[1., 1., 1.],\n",
       "        [1., 1., 1.]])"
      ]
     },
     "execution_count": 59,
     "metadata": {},
     "output_type": "execute_result"
    }
   ],
   "source": [
    "nm.ones((2,3))"
   ]
  },
  {
   "cell_type": "code",
   "execution_count": 60,
   "id": "2c6fd0e8-8326-4351-8251-5b0aad03fd7d",
   "metadata": {},
   "outputs": [
    {
     "data": {
      "text/plain": [
       "matrix([[1., 0., 0., 0., 0.],\n",
       "        [0., 1., 0., 0., 0.],\n",
       "        [0., 0., 1., 0., 0.],\n",
       "        [0., 0., 0., 1., 0.],\n",
       "        [0., 0., 0., 0., 1.]])"
      ]
     },
     "execution_count": 60,
     "metadata": {},
     "output_type": "execute_result"
    }
   ],
   "source": [
    "nm.eye(5)"
   ]
  },
  {
   "cell_type": "code",
   "execution_count": 61,
   "id": "a78ac091-affd-4324-b053-6029a9522d70",
   "metadata": {},
   "outputs": [],
   "source": [
    "# numpy - liner Algebra"
   ]
  },
  {
   "cell_type": "code",
   "execution_count": 62,
   "id": "f6cbd629-60ee-4a8c-a678-2b3a973b8489",
   "metadata": {},
   "outputs": [],
   "source": [
    "arr1 = np.random.randint([[2,3],[4,5]])"
   ]
  },
  {
   "cell_type": "code",
   "execution_count": 63,
   "id": "0c43e9cd-e525-49f6-95d0-66ea8fda625c",
   "metadata": {},
   "outputs": [],
   "source": [
    "arr2 = np.random.randint([[2,3],[4,5]])"
   ]
  },
  {
   "cell_type": "code",
   "execution_count": 68,
   "id": "10839983-90b7-4366-8f83-56b9101def2e",
   "metadata": {},
   "outputs": [
    {
     "data": {
      "text/plain": [
       "array([[1, 1],\n",
       "       [6, 0]])"
      ]
     },
     "execution_count": 68,
     "metadata": {},
     "output_type": "execute_result"
    }
   ],
   "source": [
    "# matrix multiplication\n",
    "np.dot(arr1,arr2)"
   ]
  },
  {
   "cell_type": "code",
   "execution_count": 67,
   "id": "7e607824-2be0-4a09-81e4-116965fdbd59",
   "metadata": {},
   "outputs": [
    {
     "data": {
      "text/plain": [
       "array([[1, 1],\n",
       "       [6, 0]])"
      ]
     },
     "execution_count": 67,
     "metadata": {},
     "output_type": "execute_result"
    }
   ],
   "source": [
    "# matrix multiplication\n",
    "arr1@arr2"
   ]
  },
  {
   "cell_type": "code",
   "execution_count": null,
   "id": "94664382-f942-4c2f-b657-2b9cb1af990f",
   "metadata": {},
   "outputs": [],
   "source": []
  }
 ],
 "metadata": {
  "kernelspec": {
   "display_name": "Python 3 (ipykernel)",
   "language": "python",
   "name": "python3"
  },
  "language_info": {
   "codemirror_mode": {
    "name": "ipython",
    "version": 3
   },
   "file_extension": ".py",
   "mimetype": "text/x-python",
   "name": "python",
   "nbconvert_exporter": "python",
   "pygments_lexer": "ipython3",
   "version": "3.10.8"
  }
 },
 "nbformat": 4,
 "nbformat_minor": 5
}
